{
 "cells": [
  {
   "cell_type": "markdown",
   "metadata": {},
   "source": [
    "# Unit 5 - Financial Planning\n"
   ]
  },
  {
   "cell_type": "code",
   "execution_count": 1,
   "metadata": {},
   "outputs": [],
   "source": [
    "# Initial imports\n",
    "import os\n",
    "import requests\n",
    "import pandas as pd\n",
    "from dotenv import load_dotenv\n",
    "import alpaca_trade_api as tradeapi\n",
    "from MCForecastTools import MCSimulation\n",
    "\n",
    "%matplotlib inline\n"
   ]
  },
  {
   "cell_type": "code",
   "execution_count": 2,
   "metadata": {},
   "outputs": [
    {
     "data": {
      "text/plain": [
       "True"
      ]
     },
     "execution_count": 2,
     "metadata": {},
     "output_type": "execute_result"
    }
   ],
   "source": [
    "# Load .env enviroment variables\n",
    "load_dotenv()"
   ]
  },
  {
   "cell_type": "markdown",
   "metadata": {},
   "source": [
    "## Part 1 - Personal Finance Planner"
   ]
  },
  {
   "cell_type": "markdown",
   "metadata": {},
   "source": [
    "### Collect Crypto Prices Using the `requests` Library"
   ]
  },
  {
   "cell_type": "code",
   "execution_count": 3,
   "metadata": {},
   "outputs": [],
   "source": [
    "# Set current amount of crypto assets\n",
    "my_btc = 1.2\n",
    "my_eth = 5.3"
   ]
  },
  {
   "cell_type": "code",
   "execution_count": 4,
   "metadata": {},
   "outputs": [],
   "source": [
    "# Crypto API URLs\n",
    "btc_url = \"https://api.alternative.me/v2/ticker/Bitcoin/?convert=CAD\"\n",
    "eth_url = \"https://api.alternative.me/v2/ticker/Ethereum/?convert=CAD\"\n",
    "btc_data = requests.get(btc_url).json()\n",
    "eth_data = requests.get(eth_url).json() "
   ]
  },
  {
   "cell_type": "code",
   "execution_count": 5,
   "metadata": {},
   "outputs": [],
   "source": [
    "import json"
   ]
  },
  {
   "cell_type": "code",
   "execution_count": 6,
   "metadata": {},
   "outputs": [
    {
     "name": "stdout",
     "output_type": "stream",
     "text": [
      "{\n",
      "    \"data\": {\n",
      "        \"1\": {\n",
      "            \"id\": 1,\n",
      "            \"name\": \"Bitcoin\",\n",
      "            \"symbol\": \"BTC\",\n",
      "            \"website_slug\": \"bitcoin\",\n",
      "            \"rank\": 1,\n",
      "            \"circulating_supply\": 18866387,\n",
      "            \"total_supply\": 18866387,\n",
      "            \"max_supply\": 21000000,\n",
      "            \"quotes\": {\n",
      "                \"USD\": {\n",
      "                    \"price\": 62230.0,\n",
      "                    \"volume_24h\": 28667732997,\n",
      "                    \"market_cap\": 1174050170848,\n",
      "                    \"percentage_change_1h\": 0.352948265928765,\n",
      "                    \"percentage_change_24h\": 2.42435675750055,\n",
      "                    \"percentage_change_7d\": 0.634687095528036,\n",
      "                    \"percent_change_1h\": 0.352948265928765,\n",
      "                    \"percent_change_24h\": 2.42435675750055,\n",
      "                    \"percent_change_7d\": 0.634687095528036\n",
      "                },\n",
      "                \"CAD\": {\n",
      "                    \"price\": 77544.803,\n",
      "                    \"volume_24h\": 35722862087.5617,\n",
      "                    \"market_cap\": 1462983917893.69,\n",
      "                    \"percent_change_1h\": 0.352948265928765,\n",
      "                    \"percent_change_24h\": 2.42435675750055,\n",
      "                    \"percent_change_7d\": 0.634687095528036\n",
      "                }\n",
      "            },\n",
      "            \"last_updated\": 1636289339\n",
      "        }\n",
      "    },\n",
      "    \"metadata\": {\n",
      "        \"timestamp\": 1636289339,\n",
      "        \"num_cryptocurrencies\": 3105,\n",
      "        \"error\": null\n",
      "    }\n",
      "}\n"
     ]
    }
   ],
   "source": [
    "print(json.dumps(btc_data, indent=4))"
   ]
  },
  {
   "cell_type": "code",
   "execution_count": 7,
   "metadata": {},
   "outputs": [
    {
     "data": {
      "text/plain": [
       "77544.803"
      ]
     },
     "execution_count": 7,
     "metadata": {},
     "output_type": "execute_result"
    }
   ],
   "source": [
    "# Fetch current BTC price\n",
    "btc_price= btc_data['data']['1']['quotes']['CAD']['price']\n",
    "btc_price"
   ]
  },
  {
   "cell_type": "code",
   "execution_count": 8,
   "metadata": {},
   "outputs": [
    {
     "name": "stdout",
     "output_type": "stream",
     "text": [
      "{\n",
      "    \"data\": {\n",
      "        \"1027\": {\n",
      "            \"id\": 1027,\n",
      "            \"name\": \"Ethereum\",\n",
      "            \"symbol\": \"ETH\",\n",
      "            \"website_slug\": \"ethereum\",\n",
      "            \"rank\": 2,\n",
      "            \"circulating_supply\": 118244652,\n",
      "            \"total_supply\": 118244652,\n",
      "            \"max_supply\": 0,\n",
      "            \"quotes\": {\n",
      "                \"USD\": {\n",
      "                    \"price\": 4624.14,\n",
      "                    \"volume_24h\": 16894534069,\n",
      "                    \"market_cap\": 546256432869,\n",
      "                    \"percentage_change_1h\": 0.492959132149843,\n",
      "                    \"percentage_change_24h\": 5.26598038935896,\n",
      "                    \"percentage_change_7d\": 6.92626841871333,\n",
      "                    \"percent_change_1h\": 0.492959132149843,\n",
      "                    \"percent_change_24h\": 5.26598038935896,\n",
      "                    \"percent_change_7d\": 6.92626841871333\n",
      "                },\n",
      "                \"CAD\": {\n",
      "                    \"price\": 5762.140854,\n",
      "                    \"volume_24h\": 21052278903.3809,\n",
      "                    \"market_cap\": 680690140998.061,\n",
      "                    \"percent_change_1h\": 0.492959132149843,\n",
      "                    \"percent_change_24h\": 5.26598038935896,\n",
      "                    \"percent_change_7d\": 6.92626841871333\n",
      "                }\n",
      "            },\n",
      "            \"last_updated\": 1636289343\n",
      "        }\n",
      "    },\n",
      "    \"metadata\": {\n",
      "        \"timestamp\": 1636289343,\n",
      "        \"num_cryptocurrencies\": 3105,\n",
      "        \"error\": null\n",
      "    }\n",
      "}\n"
     ]
    }
   ],
   "source": [
    "print(json.dumps(eth_data, indent=4))"
   ]
  },
  {
   "cell_type": "code",
   "execution_count": 9,
   "metadata": {},
   "outputs": [
    {
     "data": {
      "text/plain": [
       "5762.140854"
      ]
     },
     "execution_count": 9,
     "metadata": {},
     "output_type": "execute_result"
    }
   ],
   "source": [
    "# Fetch current ETH price\n",
    "eth_price= eth_data['data']['1027']['quotes']['CAD']['price']\n",
    "eth_price"
   ]
  },
  {
   "cell_type": "code",
   "execution_count": 10,
   "metadata": {},
   "outputs": [
    {
     "name": "stdout",
     "output_type": "stream",
     "text": [
      "The current value of your 1.2 BTC is $93053.76\n",
      "The current value of your 5.3 ETH is $30539.35\n"
     ]
    }
   ],
   "source": [
    "# Compute current value of my crpto\n",
    "my_btc_value = btc_price * my_btc\n",
    "\n",
    "my_eth_value = eth_price * my_eth\n",
    "\n",
    "# Print current crypto wallet balance\n",
    "print(f\"The current value of your {my_btc} BTC is ${my_btc_value:0.2f}\")\n",
    "print(f\"The current value of your {my_eth} ETH is ${my_eth_value:0.2f}\")"
   ]
  },
  {
   "cell_type": "code",
   "execution_count": 11,
   "metadata": {},
   "outputs": [
    {
     "data": {
      "text/plain": [
       "123593.11012619999"
      ]
     },
     "execution_count": 11,
     "metadata": {},
     "output_type": "execute_result"
    }
   ],
   "source": [
    "total_crypto = my_btc_value + my_eth_value\n",
    "total_crypto"
   ]
  },
  {
   "cell_type": "markdown",
   "metadata": {},
   "source": [
    "### Collect Investments Data Using Alpaca: `SPY` (stocks) and `AGG` (bonds)"
   ]
  },
  {
   "cell_type": "code",
   "execution_count": 12,
   "metadata": {},
   "outputs": [],
   "source": [
    "# Current amount of shares\n",
    "my_spy = 50\n",
    "my_agg = 200"
   ]
  },
  {
   "cell_type": "code",
   "execution_count": 13,
   "metadata": {},
   "outputs": [],
   "source": [
    "# Set Alpaca API key and secret\n",
    "alpaca_api_key = os.getenv(\"ALPACA_API_KEY\")\n",
    "alpaca_secret_key = os.getenv(\"ALPACA_SECRET_KEY\")\n",
    "\n",
    "# Create the Alpaca API object\n",
    "api = tradeapi.REST(\n",
    "    alpaca_api_key,\n",
    "    alpaca_secret_key,\n",
    "    api_version=\"v2\")"
   ]
  },
  {
   "cell_type": "code",
   "execution_count": 14,
   "metadata": {},
   "outputs": [
    {
     "name": "stdout",
     "output_type": "stream",
     "text": [
      "Alpaca Key type: <class 'str'>\n",
      "Alpaca Secret Key type: <class 'str'>\n"
     ]
    }
   ],
   "source": [
    "print(f\"Alpaca Key type: {type(alpaca_api_key)}\")\n",
    "print(f\"Alpaca Secret Key type: {type(alpaca_secret_key)}\")"
   ]
  },
  {
   "cell_type": "code",
   "execution_count": 15,
   "metadata": {},
   "outputs": [
    {
     "data": {
      "text/html": [
       "<div>\n",
       "<style scoped>\n",
       "    .dataframe tbody tr th:only-of-type {\n",
       "        vertical-align: middle;\n",
       "    }\n",
       "\n",
       "    .dataframe tbody tr th {\n",
       "        vertical-align: top;\n",
       "    }\n",
       "\n",
       "    .dataframe thead tr th {\n",
       "        text-align: left;\n",
       "    }\n",
       "\n",
       "    .dataframe thead tr:last-of-type th {\n",
       "        text-align: right;\n",
       "    }\n",
       "</style>\n",
       "<table border=\"1\" class=\"dataframe\">\n",
       "  <thead>\n",
       "    <tr>\n",
       "      <th></th>\n",
       "      <th colspan=\"5\" halign=\"left\">AGG</th>\n",
       "      <th colspan=\"5\" halign=\"left\">SPY</th>\n",
       "    </tr>\n",
       "    <tr>\n",
       "      <th></th>\n",
       "      <th>open</th>\n",
       "      <th>high</th>\n",
       "      <th>low</th>\n",
       "      <th>close</th>\n",
       "      <th>volume</th>\n",
       "      <th>open</th>\n",
       "      <th>high</th>\n",
       "      <th>low</th>\n",
       "      <th>close</th>\n",
       "      <th>volume</th>\n",
       "    </tr>\n",
       "    <tr>\n",
       "      <th>time</th>\n",
       "      <th></th>\n",
       "      <th></th>\n",
       "      <th></th>\n",
       "      <th></th>\n",
       "      <th></th>\n",
       "      <th></th>\n",
       "      <th></th>\n",
       "      <th></th>\n",
       "      <th></th>\n",
       "      <th></th>\n",
       "    </tr>\n",
       "  </thead>\n",
       "  <tbody>\n",
       "    <tr>\n",
       "      <th>2021-11-05 00:00:00-04:00</th>\n",
       "      <td>114.99</td>\n",
       "      <td>115.3199</td>\n",
       "      <td>114.9001</td>\n",
       "      <td>115.24</td>\n",
       "      <td>6641501</td>\n",
       "      <td>469.28</td>\n",
       "      <td>470.65</td>\n",
       "      <td>466.92</td>\n",
       "      <td>468.49</td>\n",
       "      <td>56119290</td>\n",
       "    </tr>\n",
       "  </tbody>\n",
       "</table>\n",
       "</div>"
      ],
      "text/plain": [
       "                              AGG                                       \\\n",
       "                             open      high       low   close   volume   \n",
       "time                                                                     \n",
       "2021-11-05 00:00:00-04:00  114.99  115.3199  114.9001  115.24  6641501   \n",
       "\n",
       "                              SPY                                    \n",
       "                             open    high     low   close    volume  \n",
       "time                                                                 \n",
       "2021-11-05 00:00:00-04:00  469.28  470.65  466.92  468.49  56119290  "
      ]
     },
     "execution_count": 15,
     "metadata": {},
     "output_type": "execute_result"
    }
   ],
   "source": [
    "# Format current date as ISO format\n",
    "today = pd.Timestamp(\"2021-11-05\", tz=\"America/New_York\").isoformat()\n",
    "start_date = pd.Timestamp(\"2021-11-05\", tz=\"America/New_York\").isoformat()\n",
    "end_date = pd.Timestamp(\"2021-11-05\", tz=\"America/New_York\").isoformat()\n",
    "\n",
    "# Set timeframe to '1D' for Alpaca API\n",
    "timeframe = \"1D\"\n",
    "\n",
    "tickers = [\"AGG\", \"SPY\"]\n",
    "\n",
    "# Get current closing prices for SPY and AGG\n",
    "df_portfolio = api.get_barset(\n",
    "    tickers,\n",
    "    timeframe,\n",
    "    start = today,\n",
    "    end = today\n",
    ").df\n",
    "\n",
    "# Preview DataFrame\n",
    "df_portfolio"
   ]
  },
  {
   "cell_type": "code",
   "execution_count": 16,
   "metadata": {},
   "outputs": [
    {
     "name": "stdout",
     "output_type": "stream",
     "text": [
      "Current AGG closing price: $115.24\n",
      "Current SPY closing price: $468.49\n"
     ]
    }
   ],
   "source": [
    "# Pick AGG and SPY close prices\n",
    "agg_close_price = float(df_portfolio[\"AGG\"][\"close\"])\n",
    "spy_close_price = float(df_portfolio[\"SPY\"][\"close\"])\n",
    "\n",
    "# Print AGG and SPY close prices\n",
    "print(f\"Current AGG closing price: ${agg_close_price}\")\n",
    "print(f\"Current SPY closing price: ${spy_close_price}\")"
   ]
  },
  {
   "cell_type": "code",
   "execution_count": 17,
   "metadata": {},
   "outputs": [
    {
     "name": "stdout",
     "output_type": "stream",
     "text": [
      "The current value of your 50 SPY shares is $23424.50\n",
      "The current value of your 200 AGG shares is $23048.00\n"
     ]
    }
   ],
   "source": [
    "# Compute the current value of shares\n",
    "my_agg_value = agg_close_price * my_agg\n",
    "my_spy_value = spy_close_price * my_spy\n",
    "\n",
    "# Print current value of share\n",
    "print(f\"The current value of your {my_spy} SPY shares is ${my_spy_value:0.2f}\")\n",
    "print(f\"The current value of your {my_agg} AGG shares is ${my_agg_value:0.2f}\")"
   ]
  },
  {
   "cell_type": "code",
   "execution_count": 18,
   "metadata": {},
   "outputs": [
    {
     "data": {
      "text/plain": [
       "46472.5"
      ]
     },
     "execution_count": 18,
     "metadata": {},
     "output_type": "execute_result"
    }
   ],
   "source": [
    "total_shares = my_agg_value + my_spy_value\n",
    "total_shares"
   ]
  },
  {
   "cell_type": "markdown",
   "metadata": {},
   "source": [
    "### Savings Health Analysis"
   ]
  },
  {
   "cell_type": "code",
   "execution_count": 19,
   "metadata": {},
   "outputs": [
    {
     "data": {
      "text/html": [
       "<div>\n",
       "<style scoped>\n",
       "    .dataframe tbody tr th:only-of-type {\n",
       "        vertical-align: middle;\n",
       "    }\n",
       "\n",
       "    .dataframe tbody tr th {\n",
       "        vertical-align: top;\n",
       "    }\n",
       "\n",
       "    .dataframe thead th {\n",
       "        text-align: right;\n",
       "    }\n",
       "</style>\n",
       "<table border=\"1\" class=\"dataframe\">\n",
       "  <thead>\n",
       "    <tr style=\"text-align: right;\">\n",
       "      <th></th>\n",
       "      <th>Amount</th>\n",
       "    </tr>\n",
       "  </thead>\n",
       "  <tbody>\n",
       "    <tr>\n",
       "      <th>Crypto</th>\n",
       "      <td>123593.110126</td>\n",
       "    </tr>\n",
       "    <tr>\n",
       "      <th>Shares</th>\n",
       "      <td>46472.500000</td>\n",
       "    </tr>\n",
       "  </tbody>\n",
       "</table>\n",
       "</div>"
      ],
      "text/plain": [
       "               Amount\n",
       "Crypto  123593.110126\n",
       "Shares   46472.500000"
      ]
     },
     "metadata": {},
     "output_type": "display_data"
    }
   ],
   "source": [
    "# Set monthly household income\n",
    "monthly_income = 12000\n",
    "\n",
    "# Create savings DataFrame\n",
    "savings_data = {\n",
    "    \"Amount\": [total_crypto,total_shares]\n",
    "}\n",
    "\n",
    "#Set the tickers\n",
    "assets = [\"Crypto\", \"Shares\"]\n",
    "\n",
    "# Create the shares DataFrame\n",
    "df_savings = pd.DataFrame(savings_data, index= assets)\n",
    "\n",
    "# Display savings DataFrame\n",
    "display(df_savings)"
   ]
  },
  {
   "cell_type": "code",
   "execution_count": 20,
   "metadata": {},
   "outputs": [
    {
     "data": {
      "text/plain": [
       "<AxesSubplot:title={'center':'Investment Savings'}, ylabel='Amount'>"
      ]
     },
     "execution_count": 20,
     "metadata": {},
     "output_type": "execute_result"
    },
    {
     "data": {
      "image/png": "[encoded data removed]",
      "text/plain": [
       "<Figure size 432x288 with 1 Axes>"
      ]
     },
     "metadata": {},
     "output_type": "display_data"
    }
   ],
   "source": [
    "# Plot savings pie chart\n",
    "df_savings.plot.pie(y=\"Amount\", title= \"Investment Savings\" )"
   ]
  },
  {
   "cell_type": "code",
   "execution_count": 21,
   "metadata": {},
   "outputs": [
    {
     "data": {
      "text/plain": [
       "36000"
      ]
     },
     "execution_count": 21,
     "metadata": {},
     "output_type": "execute_result"
    }
   ],
   "source": [
    "# Set ideal emergency fund\n",
    "ideal_emergency_fund = monthly_income * 3\n",
    "ideal_emergency_fund"
   ]
  },
  {
   "cell_type": "code",
   "execution_count": 22,
   "metadata": {},
   "outputs": [
    {
     "data": {
      "text/plain": [
       "170065.61"
      ]
     },
     "execution_count": 22,
     "metadata": {},
     "output_type": "execute_result"
    }
   ],
   "source": [
    "# Calculate total amount of savings\n",
    "total_savings = round((total_crypto + total_shares),2)\n",
    "total_savings"
   ]
  },
  {
   "cell_type": "code",
   "execution_count": 23,
   "metadata": {},
   "outputs": [
    {
     "name": "stdout",
     "output_type": "stream",
     "text": [
      "Congratulations!! you have $170065.61 you have more than enough funds for emergency\n"
     ]
    }
   ],
   "source": [
    "# Validate saving health\n",
    "if total_savings > ideal_emergency_fund:\n",
    "    print(f\"Congratulations!! you have ${total_savings} you have more than enough funds for emergency\")\n",
    "elif total_savings == ideal_emergency_fund:\n",
    "    print(f\"Congratulations in reaching your goal of {total_savings}\")\n",
    "else: \n",
    "    print(f\"You're almost at your goal, you need to save ({ideal_emergency_fund}-{total_savings})\")\n"
   ]
  },
  {
   "cell_type": "markdown",
   "metadata": {},
   "source": [
    "## Part 2 - Retirement Planning\n",
    "\n",
    "### Monte Carlo Simulation"
   ]
  },
  {
   "cell_type": "code",
   "execution_count": 24,
   "metadata": {},
   "outputs": [],
   "source": [
    "# Set start and end dates of five years back from today.\n",
    "# Sample results may vary from the solution based on the time frame chosen\n",
    "start_date = pd.Timestamp('2016-11-05', tz='America/New_York').isoformat()\n",
    "end_date = pd.Timestamp('2021-11-05', tz='America/New_York').isoformat()"
   ]
  },
  {
   "cell_type": "code",
   "execution_count": 25,
   "metadata": {},
   "outputs": [
    {
     "data": {
      "text/html": [
       "<div>\n",
       "<style scoped>\n",
       "    .dataframe tbody tr th:only-of-type {\n",
       "        vertical-align: middle;\n",
       "    }\n",
       "\n",
       "    .dataframe tbody tr th {\n",
       "        vertical-align: top;\n",
       "    }\n",
       "\n",
       "    .dataframe thead tr th {\n",
       "        text-align: left;\n",
       "    }\n",
       "\n",
       "    .dataframe thead tr:last-of-type th {\n",
       "        text-align: right;\n",
       "    }\n",
       "</style>\n",
       "<table border=\"1\" class=\"dataframe\">\n",
       "  <thead>\n",
       "    <tr>\n",
       "      <th></th>\n",
       "      <th colspan=\"5\" halign=\"left\">AGG</th>\n",
       "      <th colspan=\"5\" halign=\"left\">SPY</th>\n",
       "    </tr>\n",
       "    <tr>\n",
       "      <th></th>\n",
       "      <th>open</th>\n",
       "      <th>high</th>\n",
       "      <th>low</th>\n",
       "      <th>close</th>\n",
       "      <th>volume</th>\n",
       "      <th>open</th>\n",
       "      <th>high</th>\n",
       "      <th>low</th>\n",
       "      <th>close</th>\n",
       "      <th>volume</th>\n",
       "    </tr>\n",
       "    <tr>\n",
       "      <th>time</th>\n",
       "      <th></th>\n",
       "      <th></th>\n",
       "      <th></th>\n",
       "      <th></th>\n",
       "      <th></th>\n",
       "      <th></th>\n",
       "      <th></th>\n",
       "      <th></th>\n",
       "      <th></th>\n",
       "      <th></th>\n",
       "    </tr>\n",
       "  </thead>\n",
       "  <tbody>\n",
       "    <tr>\n",
       "      <th>2021-06-17 00:00:00-04:00</th>\n",
       "      <td>114.792</td>\n",
       "      <td>115.250</td>\n",
       "      <td>114.785</td>\n",
       "      <td>114.99</td>\n",
       "      <td>7417691</td>\n",
       "      <td>421.67</td>\n",
       "      <td>423.0200</td>\n",
       "      <td>419.32</td>\n",
       "      <td>421.97</td>\n",
       "      <td>71991686</td>\n",
       "    </tr>\n",
       "    <tr>\n",
       "      <th>2021-06-18 00:00:00-04:00</th>\n",
       "      <td>115.050</td>\n",
       "      <td>115.390</td>\n",
       "      <td>114.910</td>\n",
       "      <td>115.29</td>\n",
       "      <td>5438261</td>\n",
       "      <td>417.08</td>\n",
       "      <td>417.8281</td>\n",
       "      <td>414.70</td>\n",
       "      <td>415.01</td>\n",
       "      <td>92753385</td>\n",
       "    </tr>\n",
       "    <tr>\n",
       "      <th>2021-06-21 00:00:00-04:00</th>\n",
       "      <td>115.060</td>\n",
       "      <td>115.120</td>\n",
       "      <td>114.921</td>\n",
       "      <td>114.96</td>\n",
       "      <td>4934966</td>\n",
       "      <td>416.80</td>\n",
       "      <td>421.0600</td>\n",
       "      <td>415.93</td>\n",
       "      <td>420.85</td>\n",
       "      <td>63727942</td>\n",
       "    </tr>\n",
       "    <tr>\n",
       "      <th>2021-06-22 00:00:00-04:00</th>\n",
       "      <td>114.830</td>\n",
       "      <td>115.140</td>\n",
       "      <td>114.830</td>\n",
       "      <td>115.11</td>\n",
       "      <td>5299846</td>\n",
       "      <td>420.85</td>\n",
       "      <td>424.0000</td>\n",
       "      <td>420.08</td>\n",
       "      <td>423.06</td>\n",
       "      <td>50857233</td>\n",
       "    </tr>\n",
       "    <tr>\n",
       "      <th>2021-06-23 00:00:00-04:00</th>\n",
       "      <td>115.060</td>\n",
       "      <td>115.138</td>\n",
       "      <td>114.990</td>\n",
       "      <td>115.05</td>\n",
       "      <td>5000374</td>\n",
       "      <td>423.19</td>\n",
       "      <td>424.0500</td>\n",
       "      <td>422.51</td>\n",
       "      <td>422.60</td>\n",
       "      <td>41476351</td>\n",
       "    </tr>\n",
       "  </tbody>\n",
       "</table>\n",
       "</div>"
      ],
      "text/plain": [
       "                               AGG                                        SPY  \\\n",
       "                              open     high      low   close   volume    open   \n",
       "time                                                                            \n",
       "2021-06-17 00:00:00-04:00  114.792  115.250  114.785  114.99  7417691  421.67   \n",
       "2021-06-18 00:00:00-04:00  115.050  115.390  114.910  115.29  5438261  417.08   \n",
       "2021-06-21 00:00:00-04:00  115.060  115.120  114.921  114.96  4934966  416.80   \n",
       "2021-06-22 00:00:00-04:00  114.830  115.140  114.830  115.11  5299846  420.85   \n",
       "2021-06-23 00:00:00-04:00  115.060  115.138  114.990  115.05  5000374  423.19   \n",
       "\n",
       "                                                               \n",
       "                               high     low   close    volume  \n",
       "time                                                           \n",
       "2021-06-17 00:00:00-04:00  423.0200  419.32  421.97  71991686  \n",
       "2021-06-18 00:00:00-04:00  417.8281  414.70  415.01  92753385  \n",
       "2021-06-21 00:00:00-04:00  421.0600  415.93  420.85  63727942  \n",
       "2021-06-22 00:00:00-04:00  424.0000  420.08  423.06  50857233  \n",
       "2021-06-23 00:00:00-04:00  424.0500  422.51  422.60  41476351  "
      ]
     },
     "execution_count": 25,
     "metadata": {},
     "output_type": "execute_result"
    }
   ],
   "source": [
    "# Get 5 years' worth of historical data for SPY and AGG\n",
    "# YOUR CODE HERE!\n",
    "df_stock_data = api.get_barset(\n",
    "    tickers,\n",
    "    timeframe,\n",
    "    start = start_date,\n",
    "    end = end_date\n",
    ").df\n",
    "\n",
    "# Display sample data\n",
    "df_stock_data.head()"
   ]
  },
  {
   "cell_type": "code",
   "execution_count": 26,
   "metadata": {},
   "outputs": [],
   "source": [
    "# Configuring a Monte Carlo simulation to forecast 30 years cumulative returns\n",
    "num_sims = 500\n",
    "\n",
    "MC_Shares = MCSimulation(\n",
    "    portfolio_data = df_stock_data,\n",
    "    weights = [.40,.60],\n",
    "    num_simulation = num_sims,\n",
    "    num_trading_days = 252*30\n",
    ")"
   ]
  },
  {
   "cell_type": "code",
   "execution_count": 27,
   "metadata": {},
   "outputs": [
    {
     "data": {
      "text/html": [
       "<div>\n",
       "<style scoped>\n",
       "    .dataframe tbody tr th:only-of-type {\n",
       "        vertical-align: middle;\n",
       "    }\n",
       "\n",
       "    .dataframe tbody tr th {\n",
       "        vertical-align: top;\n",
       "    }\n",
       "\n",
       "    .dataframe thead tr th {\n",
       "        text-align: left;\n",
       "    }\n",
       "\n",
       "    .dataframe thead tr:last-of-type th {\n",
       "        text-align: right;\n",
       "    }\n",
       "</style>\n",
       "<table border=\"1\" class=\"dataframe\">\n",
       "  <thead>\n",
       "    <tr>\n",
       "      <th></th>\n",
       "      <th colspan=\"6\" halign=\"left\">AGG</th>\n",
       "      <th colspan=\"6\" halign=\"left\">SPY</th>\n",
       "    </tr>\n",
       "    <tr>\n",
       "      <th></th>\n",
       "      <th>open</th>\n",
       "      <th>high</th>\n",
       "      <th>low</th>\n",
       "      <th>close</th>\n",
       "      <th>volume</th>\n",
       "      <th>daily_return</th>\n",
       "      <th>open</th>\n",
       "      <th>high</th>\n",
       "      <th>low</th>\n",
       "      <th>close</th>\n",
       "      <th>volume</th>\n",
       "      <th>daily_return</th>\n",
       "    </tr>\n",
       "    <tr>\n",
       "      <th>time</th>\n",
       "      <th></th>\n",
       "      <th></th>\n",
       "      <th></th>\n",
       "      <th></th>\n",
       "      <th></th>\n",
       "      <th></th>\n",
       "      <th></th>\n",
       "      <th></th>\n",
       "      <th></th>\n",
       "      <th></th>\n",
       "      <th></th>\n",
       "      <th></th>\n",
       "    </tr>\n",
       "  </thead>\n",
       "  <tbody>\n",
       "    <tr>\n",
       "      <th>2021-06-17 00:00:00-04:00</th>\n",
       "      <td>114.792</td>\n",
       "      <td>115.250</td>\n",
       "      <td>114.785</td>\n",
       "      <td>114.99</td>\n",
       "      <td>7417691</td>\n",
       "      <td>NaN</td>\n",
       "      <td>421.67</td>\n",
       "      <td>423.0200</td>\n",
       "      <td>419.32</td>\n",
       "      <td>421.97</td>\n",
       "      <td>71991686</td>\n",
       "      <td>NaN</td>\n",
       "    </tr>\n",
       "    <tr>\n",
       "      <th>2021-06-18 00:00:00-04:00</th>\n",
       "      <td>115.050</td>\n",
       "      <td>115.390</td>\n",
       "      <td>114.910</td>\n",
       "      <td>115.29</td>\n",
       "      <td>5438261</td>\n",
       "      <td>0.002609</td>\n",
       "      <td>417.08</td>\n",
       "      <td>417.8281</td>\n",
       "      <td>414.70</td>\n",
       "      <td>415.01</td>\n",
       "      <td>92753385</td>\n",
       "      <td>-0.016494</td>\n",
       "    </tr>\n",
       "    <tr>\n",
       "      <th>2021-06-21 00:00:00-04:00</th>\n",
       "      <td>115.060</td>\n",
       "      <td>115.120</td>\n",
       "      <td>114.921</td>\n",
       "      <td>114.96</td>\n",
       "      <td>4934966</td>\n",
       "      <td>-0.002862</td>\n",
       "      <td>416.80</td>\n",
       "      <td>421.0600</td>\n",
       "      <td>415.93</td>\n",
       "      <td>420.85</td>\n",
       "      <td>63727942</td>\n",
       "      <td>0.014072</td>\n",
       "    </tr>\n",
       "    <tr>\n",
       "      <th>2021-06-22 00:00:00-04:00</th>\n",
       "      <td>114.830</td>\n",
       "      <td>115.140</td>\n",
       "      <td>114.830</td>\n",
       "      <td>115.11</td>\n",
       "      <td>5299846</td>\n",
       "      <td>0.001305</td>\n",
       "      <td>420.85</td>\n",
       "      <td>424.0000</td>\n",
       "      <td>420.08</td>\n",
       "      <td>423.06</td>\n",
       "      <td>50857233</td>\n",
       "      <td>0.005251</td>\n",
       "    </tr>\n",
       "    <tr>\n",
       "      <th>2021-06-23 00:00:00-04:00</th>\n",
       "      <td>115.060</td>\n",
       "      <td>115.138</td>\n",
       "      <td>114.990</td>\n",
       "      <td>115.05</td>\n",
       "      <td>5000374</td>\n",
       "      <td>-0.000521</td>\n",
       "      <td>423.19</td>\n",
       "      <td>424.0500</td>\n",
       "      <td>422.51</td>\n",
       "      <td>422.60</td>\n",
       "      <td>41476351</td>\n",
       "      <td>-0.001087</td>\n",
       "    </tr>\n",
       "  </tbody>\n",
       "</table>\n",
       "</div>"
      ],
      "text/plain": [
       "                               AGG                                     \\\n",
       "                              open     high      low   close   volume   \n",
       "time                                                                    \n",
       "2021-06-17 00:00:00-04:00  114.792  115.250  114.785  114.99  7417691   \n",
       "2021-06-18 00:00:00-04:00  115.050  115.390  114.910  115.29  5438261   \n",
       "2021-06-21 00:00:00-04:00  115.060  115.120  114.921  114.96  4934966   \n",
       "2021-06-22 00:00:00-04:00  114.830  115.140  114.830  115.11  5299846   \n",
       "2021-06-23 00:00:00-04:00  115.060  115.138  114.990  115.05  5000374   \n",
       "\n",
       "                                           SPY                            \\\n",
       "                          daily_return    open      high     low   close   \n",
       "time                                                                       \n",
       "2021-06-17 00:00:00-04:00          NaN  421.67  423.0200  419.32  421.97   \n",
       "2021-06-18 00:00:00-04:00     0.002609  417.08  417.8281  414.70  415.01   \n",
       "2021-06-21 00:00:00-04:00    -0.002862  416.80  421.0600  415.93  420.85   \n",
       "2021-06-22 00:00:00-04:00     0.001305  420.85  424.0000  420.08  423.06   \n",
       "2021-06-23 00:00:00-04:00    -0.000521  423.19  424.0500  422.51  422.60   \n",
       "\n",
       "                                                  \n",
       "                             volume daily_return  \n",
       "time                                              \n",
       "2021-06-17 00:00:00-04:00  71991686          NaN  \n",
       "2021-06-18 00:00:00-04:00  92753385    -0.016494  \n",
       "2021-06-21 00:00:00-04:00  63727942     0.014072  \n",
       "2021-06-22 00:00:00-04:00  50857233     0.005251  \n",
       "2021-06-23 00:00:00-04:00  41476351    -0.001087  "
      ]
     },
     "execution_count": 27,
     "metadata": {},
     "output_type": "execute_result"
    }
   ],
   "source": [
    "# Printing the simulation input data\n",
    "MC_Shares.portfolio_data.head()"
   ]
  },
  {
   "cell_type": "code",
   "execution_count": 28,
   "metadata": {},
   "outputs": [
    {
     "name": "stdout",
     "output_type": "stream",
     "text": [
      "Running Monte Carlo simulation number 0.\n",
      "Running Monte Carlo simulation number 10.\n",
      "Running Monte Carlo simulation number 20.\n",
      "Running Monte Carlo simulation number 30.\n",
      "Running Monte Carlo simulation number 40.\n",
      "Running Monte Carlo simulation number 50.\n",
      "Running Monte Carlo simulation number 60.\n",
      "Running Monte Carlo simulation number 70.\n",
      "Running Monte Carlo simulation number 80.\n",
      "Running Monte Carlo simulation number 90.\n",
      "Running Monte Carlo simulation number 100.\n",
      "Running Monte Carlo simulation number 110.\n",
      "Running Monte Carlo simulation number 120.\n",
      "Running Monte Carlo simulation number 130.\n",
      "Running Monte Carlo simulation number 140.\n",
      "Running Monte Carlo simulation number 150.\n",
      "Running Monte Carlo simulation number 160.\n",
      "Running Monte Carlo simulation number 170.\n",
      "Running Monte Carlo simulation number 180.\n",
      "Running Monte Carlo simulation number 190.\n",
      "Running Monte Carlo simulation number 200.\n",
      "Running Monte Carlo simulation number 210.\n",
      "Running Monte Carlo simulation number 220.\n",
      "Running Monte Carlo simulation number 230.\n",
      "Running Monte Carlo simulation number 240.\n",
      "Running Monte Carlo simulation number 250.\n",
      "Running Monte Carlo simulation number 260.\n",
      "Running Monte Carlo simulation number 270.\n",
      "Running Monte Carlo simulation number 280.\n",
      "Running Monte Carlo simulation number 290.\n",
      "Running Monte Carlo simulation number 300.\n",
      "Running Monte Carlo simulation number 310.\n",
      "Running Monte Carlo simulation number 320.\n",
      "Running Monte Carlo simulation number 330.\n",
      "Running Monte Carlo simulation number 340.\n",
      "Running Monte Carlo simulation number 350.\n",
      "Running Monte Carlo simulation number 360.\n",
      "Running Monte Carlo simulation number 370.\n",
      "Running Monte Carlo simulation number 380.\n",
      "Running Monte Carlo simulation number 390.\n",
      "Running Monte Carlo simulation number 400.\n",
      "Running Monte Carlo simulation number 410.\n",
      "Running Monte Carlo simulation number 420.\n",
      "Running Monte Carlo simulation number 430.\n",
      "Running Monte Carlo simulation number 440.\n",
      "Running Monte Carlo simulation number 450.\n",
      "Running Monte Carlo simulation number 460.\n",
      "Running Monte Carlo simulation number 470.\n",
      "Running Monte Carlo simulation number 480.\n",
      "Running Monte Carlo simulation number 490.\n"
     ]
    },
    {
     "data": {
      "text/html": [
       "<div>\n",
       "<style scoped>\n",
       "    .dataframe tbody tr th:only-of-type {\n",
       "        vertical-align: middle;\n",
       "    }\n",
       "\n",
       "    .dataframe tbody tr th {\n",
       "        vertical-align: top;\n",
       "    }\n",
       "\n",
       "    .dataframe thead th {\n",
       "        text-align: right;\n",
       "    }\n",
       "</style>\n",
       "<table border=\"1\" class=\"dataframe\">\n",
       "  <thead>\n",
       "    <tr style=\"text-align: right;\">\n",
       "      <th></th>\n",
       "      <th>0</th>\n",
       "      <th>1</th>\n",
       "      <th>2</th>\n",
       "      <th>3</th>\n",
       "      <th>4</th>\n",
       "      <th>5</th>\n",
       "      <th>6</th>\n",
       "      <th>7</th>\n",
       "      <th>8</th>\n",
       "      <th>9</th>\n",
       "      <th>...</th>\n",
       "      <th>490</th>\n",
       "      <th>491</th>\n",
       "      <th>492</th>\n",
       "      <th>493</th>\n",
       "      <th>494</th>\n",
       "      <th>495</th>\n",
       "      <th>496</th>\n",
       "      <th>497</th>\n",
       "      <th>498</th>\n",
       "      <th>499</th>\n",
       "    </tr>\n",
       "  </thead>\n",
       "  <tbody>\n",
       "    <tr>\n",
       "      <th>0</th>\n",
       "      <td>1.000000</td>\n",
       "      <td>1.000000</td>\n",
       "      <td>1.000000</td>\n",
       "      <td>1.000000</td>\n",
       "      <td>1.000000</td>\n",
       "      <td>1.000000</td>\n",
       "      <td>1.000000</td>\n",
       "      <td>1.000000</td>\n",
       "      <td>1.000000</td>\n",
       "      <td>1.000000</td>\n",
       "      <td>...</td>\n",
       "      <td>1.000000</td>\n",
       "      <td>1.000000</td>\n",
       "      <td>1.000000</td>\n",
       "      <td>1.000000</td>\n",
       "      <td>1.000000</td>\n",
       "      <td>1.000000</td>\n",
       "      <td>1.000000</td>\n",
       "      <td>1.000000</td>\n",
       "      <td>1.000000</td>\n",
       "      <td>1.000000</td>\n",
       "    </tr>\n",
       "    <tr>\n",
       "      <th>1</th>\n",
       "      <td>1.010695</td>\n",
       "      <td>0.996405</td>\n",
       "      <td>1.000725</td>\n",
       "      <td>1.002913</td>\n",
       "      <td>1.001540</td>\n",
       "      <td>1.004435</td>\n",
       "      <td>0.995635</td>\n",
       "      <td>1.001010</td>\n",
       "      <td>0.998293</td>\n",
       "      <td>1.001493</td>\n",
       "      <td>...</td>\n",
       "      <td>1.003360</td>\n",
       "      <td>0.995453</td>\n",
       "      <td>1.007211</td>\n",
       "      <td>0.995975</td>\n",
       "      <td>0.999651</td>\n",
       "      <td>0.996746</td>\n",
       "      <td>1.003761</td>\n",
       "      <td>1.002640</td>\n",
       "      <td>0.998278</td>\n",
       "      <td>0.995856</td>\n",
       "    </tr>\n",
       "    <tr>\n",
       "      <th>2</th>\n",
       "      <td>1.019871</td>\n",
       "      <td>0.995704</td>\n",
       "      <td>1.005593</td>\n",
       "      <td>1.004395</td>\n",
       "      <td>1.005022</td>\n",
       "      <td>1.002850</td>\n",
       "      <td>0.995162</td>\n",
       "      <td>1.002474</td>\n",
       "      <td>0.999338</td>\n",
       "      <td>0.998443</td>\n",
       "      <td>...</td>\n",
       "      <td>1.001683</td>\n",
       "      <td>0.994151</td>\n",
       "      <td>1.007383</td>\n",
       "      <td>1.005097</td>\n",
       "      <td>1.001986</td>\n",
       "      <td>0.996524</td>\n",
       "      <td>1.010126</td>\n",
       "      <td>1.005800</td>\n",
       "      <td>1.003123</td>\n",
       "      <td>0.992031</td>\n",
       "    </tr>\n",
       "    <tr>\n",
       "      <th>3</th>\n",
       "      <td>1.018708</td>\n",
       "      <td>0.997511</td>\n",
       "      <td>1.008882</td>\n",
       "      <td>1.002533</td>\n",
       "      <td>1.011686</td>\n",
       "      <td>1.005863</td>\n",
       "      <td>0.996888</td>\n",
       "      <td>1.005539</td>\n",
       "      <td>1.003482</td>\n",
       "      <td>0.996269</td>\n",
       "      <td>...</td>\n",
       "      <td>1.004844</td>\n",
       "      <td>0.994107</td>\n",
       "      <td>1.013877</td>\n",
       "      <td>1.004228</td>\n",
       "      <td>0.998804</td>\n",
       "      <td>0.998321</td>\n",
       "      <td>1.008194</td>\n",
       "      <td>1.003169</td>\n",
       "      <td>1.008233</td>\n",
       "      <td>0.990545</td>\n",
       "    </tr>\n",
       "    <tr>\n",
       "      <th>4</th>\n",
       "      <td>1.022438</td>\n",
       "      <td>0.998083</td>\n",
       "      <td>1.017862</td>\n",
       "      <td>0.993384</td>\n",
       "      <td>1.011629</td>\n",
       "      <td>1.016464</td>\n",
       "      <td>0.995910</td>\n",
       "      <td>0.993700</td>\n",
       "      <td>1.002199</td>\n",
       "      <td>0.991137</td>\n",
       "      <td>...</td>\n",
       "      <td>1.006011</td>\n",
       "      <td>0.997472</td>\n",
       "      <td>1.012764</td>\n",
       "      <td>1.004380</td>\n",
       "      <td>1.002791</td>\n",
       "      <td>0.987574</td>\n",
       "      <td>1.006470</td>\n",
       "      <td>0.991943</td>\n",
       "      <td>1.004291</td>\n",
       "      <td>0.990365</td>\n",
       "    </tr>\n",
       "    <tr>\n",
       "      <th>...</th>\n",
       "      <td>...</td>\n",
       "      <td>...</td>\n",
       "      <td>...</td>\n",
       "      <td>...</td>\n",
       "      <td>...</td>\n",
       "      <td>...</td>\n",
       "      <td>...</td>\n",
       "      <td>...</td>\n",
       "      <td>...</td>\n",
       "      <td>...</td>\n",
       "      <td>...</td>\n",
       "      <td>...</td>\n",
       "      <td>...</td>\n",
       "      <td>...</td>\n",
       "      <td>...</td>\n",
       "      <td>...</td>\n",
       "      <td>...</td>\n",
       "      <td>...</td>\n",
       "      <td>...</td>\n",
       "      <td>...</td>\n",
       "      <td>...</td>\n",
       "    </tr>\n",
       "    <tr>\n",
       "      <th>7556</th>\n",
       "      <td>114.087282</td>\n",
       "      <td>137.465915</td>\n",
       "      <td>165.229458</td>\n",
       "      <td>135.829337</td>\n",
       "      <td>187.274410</td>\n",
       "      <td>115.308764</td>\n",
       "      <td>140.209631</td>\n",
       "      <td>326.773244</td>\n",
       "      <td>137.830853</td>\n",
       "      <td>169.110683</td>\n",
       "      <td>...</td>\n",
       "      <td>222.165633</td>\n",
       "      <td>114.020253</td>\n",
       "      <td>65.192894</td>\n",
       "      <td>174.455844</td>\n",
       "      <td>119.878502</td>\n",
       "      <td>136.474169</td>\n",
       "      <td>94.629222</td>\n",
       "      <td>187.697333</td>\n",
       "      <td>230.898308</td>\n",
       "      <td>91.402136</td>\n",
       "    </tr>\n",
       "    <tr>\n",
       "      <th>7557</th>\n",
       "      <td>113.521964</td>\n",
       "      <td>137.240517</td>\n",
       "      <td>165.155843</td>\n",
       "      <td>136.534562</td>\n",
       "      <td>187.379825</td>\n",
       "      <td>116.244254</td>\n",
       "      <td>140.308261</td>\n",
       "      <td>328.401902</td>\n",
       "      <td>138.753680</td>\n",
       "      <td>168.989091</td>\n",
       "      <td>...</td>\n",
       "      <td>221.531796</td>\n",
       "      <td>114.984241</td>\n",
       "      <td>65.228979</td>\n",
       "      <td>175.565180</td>\n",
       "      <td>120.187809</td>\n",
       "      <td>137.067966</td>\n",
       "      <td>94.728005</td>\n",
       "      <td>188.518632</td>\n",
       "      <td>231.246138</td>\n",
       "      <td>92.250787</td>\n",
       "    </tr>\n",
       "    <tr>\n",
       "      <th>7558</th>\n",
       "      <td>113.821622</td>\n",
       "      <td>136.792512</td>\n",
       "      <td>164.800773</td>\n",
       "      <td>137.854646</td>\n",
       "      <td>186.619848</td>\n",
       "      <td>116.493984</td>\n",
       "      <td>140.547363</td>\n",
       "      <td>330.836605</td>\n",
       "      <td>138.297548</td>\n",
       "      <td>169.239636</td>\n",
       "      <td>...</td>\n",
       "      <td>221.063743</td>\n",
       "      <td>115.035944</td>\n",
       "      <td>64.916969</td>\n",
       "      <td>174.928891</td>\n",
       "      <td>119.830090</td>\n",
       "      <td>136.678492</td>\n",
       "      <td>94.724851</td>\n",
       "      <td>188.586486</td>\n",
       "      <td>233.188399</td>\n",
       "      <td>92.557172</td>\n",
       "    </tr>\n",
       "    <tr>\n",
       "      <th>7559</th>\n",
       "      <td>113.965533</td>\n",
       "      <td>136.474149</td>\n",
       "      <td>165.463253</td>\n",
       "      <td>137.677860</td>\n",
       "      <td>185.496337</td>\n",
       "      <td>116.744871</td>\n",
       "      <td>140.299135</td>\n",
       "      <td>331.842899</td>\n",
       "      <td>138.392140</td>\n",
       "      <td>169.573288</td>\n",
       "      <td>...</td>\n",
       "      <td>222.657297</td>\n",
       "      <td>114.828612</td>\n",
       "      <td>64.647429</td>\n",
       "      <td>174.728965</td>\n",
       "      <td>120.751639</td>\n",
       "      <td>135.426749</td>\n",
       "      <td>94.801573</td>\n",
       "      <td>188.712949</td>\n",
       "      <td>232.179149</td>\n",
       "      <td>92.929194</td>\n",
       "    </tr>\n",
       "    <tr>\n",
       "      <th>7560</th>\n",
       "      <td>114.026304</td>\n",
       "      <td>135.992722</td>\n",
       "      <td>164.858849</td>\n",
       "      <td>137.838871</td>\n",
       "      <td>186.925636</td>\n",
       "      <td>116.657784</td>\n",
       "      <td>140.102974</td>\n",
       "      <td>330.944789</td>\n",
       "      <td>138.549577</td>\n",
       "      <td>168.907872</td>\n",
       "      <td>...</td>\n",
       "      <td>222.100980</td>\n",
       "      <td>114.431219</td>\n",
       "      <td>64.650177</td>\n",
       "      <td>175.072781</td>\n",
       "      <td>121.169615</td>\n",
       "      <td>135.239695</td>\n",
       "      <td>94.796773</td>\n",
       "      <td>189.498773</td>\n",
       "      <td>233.033626</td>\n",
       "      <td>93.250003</td>\n",
       "    </tr>\n",
       "  </tbody>\n",
       "</table>\n",
       "<p>7561 rows × 500 columns</p>\n",
       "</div>"
      ],
      "text/plain": [
       "             0           1           2           3           4           5    \\\n",
       "0       1.000000    1.000000    1.000000    1.000000    1.000000    1.000000   \n",
       "1       1.010695    0.996405    1.000725    1.002913    1.001540    1.004435   \n",
       "2       1.019871    0.995704    1.005593    1.004395    1.005022    1.002850   \n",
       "3       1.018708    0.997511    1.008882    1.002533    1.011686    1.005863   \n",
       "4       1.022438    0.998083    1.017862    0.993384    1.011629    1.016464   \n",
       "...          ...         ...         ...         ...         ...         ...   \n",
       "7556  114.087282  137.465915  165.229458  135.829337  187.274410  115.308764   \n",
       "7557  113.521964  137.240517  165.155843  136.534562  187.379825  116.244254   \n",
       "7558  113.821622  136.792512  164.800773  137.854646  186.619848  116.493984   \n",
       "7559  113.965533  136.474149  165.463253  137.677860  185.496337  116.744871   \n",
       "7560  114.026304  135.992722  164.858849  137.838871  186.925636  116.657784   \n",
       "\n",
       "             6           7           8           9    ...         490  \\\n",
       "0       1.000000    1.000000    1.000000    1.000000  ...    1.000000   \n",
       "1       0.995635    1.001010    0.998293    1.001493  ...    1.003360   \n",
       "2       0.995162    1.002474    0.999338    0.998443  ...    1.001683   \n",
       "3       0.996888    1.005539    1.003482    0.996269  ...    1.004844   \n",
       "4       0.995910    0.993700    1.002199    0.991137  ...    1.006011   \n",
       "...          ...         ...         ...         ...  ...         ...   \n",
       "7556  140.209631  326.773244  137.830853  169.110683  ...  222.165633   \n",
       "7557  140.308261  328.401902  138.753680  168.989091  ...  221.531796   \n",
       "7558  140.547363  330.836605  138.297548  169.239636  ...  221.063743   \n",
       "7559  140.299135  331.842899  138.392140  169.573288  ...  222.657297   \n",
       "7560  140.102974  330.944789  138.549577  168.907872  ...  222.100980   \n",
       "\n",
       "             491        492         493         494         495        496  \\\n",
       "0       1.000000   1.000000    1.000000    1.000000    1.000000   1.000000   \n",
       "1       0.995453   1.007211    0.995975    0.999651    0.996746   1.003761   \n",
       "2       0.994151   1.007383    1.005097    1.001986    0.996524   1.010126   \n",
       "3       0.994107   1.013877    1.004228    0.998804    0.998321   1.008194   \n",
       "4       0.997472   1.012764    1.004380    1.002791    0.987574   1.006470   \n",
       "...          ...        ...         ...         ...         ...        ...   \n",
       "7556  114.020253  65.192894  174.455844  119.878502  136.474169  94.629222   \n",
       "7557  114.984241  65.228979  175.565180  120.187809  137.067966  94.728005   \n",
       "7558  115.035944  64.916969  174.928891  119.830090  136.678492  94.724851   \n",
       "7559  114.828612  64.647429  174.728965  120.751639  135.426749  94.801573   \n",
       "7560  114.431219  64.650177  175.072781  121.169615  135.239695  94.796773   \n",
       "\n",
       "             497         498        499  \n",
       "0       1.000000    1.000000   1.000000  \n",
       "1       1.002640    0.998278   0.995856  \n",
       "2       1.005800    1.003123   0.992031  \n",
       "3       1.003169    1.008233   0.990545  \n",
       "4       0.991943    1.004291   0.990365  \n",
       "...          ...         ...        ...  \n",
       "7556  187.697333  230.898308  91.402136  \n",
       "7557  188.518632  231.246138  92.250787  \n",
       "7558  188.586486  233.188399  92.557172  \n",
       "7559  188.712949  232.179149  92.929194  \n",
       "7560  189.498773  233.033626  93.250003  \n",
       "\n",
       "[7561 rows x 500 columns]"
      ]
     },
     "execution_count": 28,
     "metadata": {},
     "output_type": "execute_result"
    }
   ],
   "source": [
    "# Running a Monte Carlo simulation to forecast 30 years cumulative returns\n",
    "MC_Shares.calc_cumulative_return()"
   ]
  },
  {
   "cell_type": "code",
   "execution_count": 29,
   "metadata": {},
   "outputs": [
    {
     "data": {
      "image/png": "[encoded data removed]",
      "text/plain": [
       "<Figure size 432x288 with 1 Axes>"
      ]
     },
     "metadata": {
      "needs_background": "light"
     },
     "output_type": "display_data"
    }
   ],
   "source": [
    "# Plot simulation outcomes\n",
    "line_plot = MC_Shares.plot_simulation()"
   ]
  },
  {
   "cell_type": "code",
   "execution_count": 30,
   "metadata": {},
   "outputs": [
    {
     "data": {
      "image/png": "[encoded data removed]",
      "text/plain": [
       "<Figure size 432x288 with 1 Axes>"
      ]
     },
     "metadata": {
      "needs_background": "light"
     },
     "output_type": "display_data"
    }
   ],
   "source": [
    "# Plot probability distribution and confidence intervals\n",
    "dist_plot = MC_Shares.plot_distribution()\n",
    "dist_plot.get_figure().savefig('MC_Shares.png',bbox_inches='tight')"
   ]
  },
  {
   "cell_type": "markdown",
   "metadata": {},
   "source": [
    "### Retirement Analysis"
   ]
  },
  {
   "cell_type": "code",
   "execution_count": 31,
   "metadata": {},
   "outputs": [
    {
     "name": "stdout",
     "output_type": "stream",
     "text": [
      "count           500.000000\n",
      "mean            144.319536\n",
      "std              53.944924\n",
      "min              49.062872\n",
      "25%             105.793277\n",
      "50%             135.319096\n",
      "75%             174.356841\n",
      "max             444.450748\n",
      "95% CI Lower     70.093236\n",
      "95% CI Upper    267.437415\n",
      "Name: 7560, dtype: float64\n"
     ]
    }
   ],
   "source": [
    "# Fetch summary statistics from the Monte Carlo simulation results\n",
    "tbl = MC_Shares.summarize_cumulative_return()\n",
    "# Print summary statistics\n",
    "print(tbl)"
   ]
  },
  {
   "cell_type": "markdown",
   "metadata": {},
   "source": [
    "### Calculate the expected portfolio return at the 95% lower and upper confidence intervals based on a `$20,000` initial investment."
   ]
  },
  {
   "cell_type": "code",
   "execution_count": 32,
   "metadata": {},
   "outputs": [
    {
     "name": "stdout",
     "output_type": "stream",
     "text": [
      "There is a 95% chance that an initial investment of $20000 in the portfolio over the next 30 years will end within in the range of $1401864.73 and $5348748.31\n"
     ]
    }
   ],
   "source": [
    "# Set initial investment\n",
    "initial_investment = 20000\n",
    "\n",
    "# Use the lower and upper `95%` confidence intervals to calculate the range of the possible outcomes of our $20,000\n",
    "ci_lower = round(tbl[8]*20000,2)\n",
    "ci_upper = round(tbl[9]*20000,2)\n",
    "\n",
    "# Print results\n",
    "print(f\"There is a 95% chance that an initial investment of ${initial_investment} in the portfolio\"\n",
    "      f\" over the next 30 years will end within in the range of\"\n",
    "      f\" ${ci_lower} and ${ci_upper}\")"
   ]
  },
  {
   "cell_type": "markdown",
   "metadata": {},
   "source": [
    "### Calculate the expected portfolio return at the `95%` lower and upper confidence intervals based on a `50%` increase in the initial investment."
   ]
  },
  {
   "cell_type": "code",
   "execution_count": 33,
   "metadata": {},
   "outputs": [
    {
     "name": "stdout",
     "output_type": "stream",
     "text": [
      "There is a 95% chance that an initial investment of $30000.0 in the portfolio over the next 30 years will end within in the range of $2102797.09 and $8023122.46\n"
     ]
    }
   ],
   "source": [
    "# Set initial investment\n",
    "initial_investment = 20000 * 1.5\n",
    "\n",
    "# Use the lower and upper `95%` confidence intervals to calculate the range of the possible outcomes of our $30,000\n",
    "ci_lower = round(tbl[8]*20000*1.5,2)\n",
    "ci_upper = round(tbl[9]*20000*1.5,2)\n",
    "\n",
    "# Print results\n",
    "print(f\"There is a 95% chance that an initial investment of ${initial_investment} in the portfolio\"\n",
    "      f\" over the next 30 years will end within in the range of\"\n",
    "      f\" ${ci_lower} and ${ci_upper}\")"
   ]
  },
  {
   "cell_type": "markdown",
   "metadata": {},
   "source": [
    "## Optional Challenge - Early Retirement\n",
    "\n",
    "\n",
    "### Five Years Retirement Option"
   ]
  },
  {
   "cell_type": "code",
   "execution_count": null,
   "metadata": {},
   "outputs": [],
   "source": [
    "# Configuring a Monte Carlo simulation to forecast 5 years cumulative returns\n",
    "# YOUR CODE HERE!"
   ]
  },
  {
   "cell_type": "code",
   "execution_count": null,
   "metadata": {},
   "outputs": [],
   "source": [
    "# Running a Monte Carlo simulation to forecast 5 years cumulative returns\n",
    "# YOUR CODE HERE!"
   ]
  },
  {
   "cell_type": "code",
   "execution_count": null,
   "metadata": {},
   "outputs": [],
   "source": [
    "# Plot simulation outcomes\n",
    "# YOUR CODE HERE!"
   ]
  },
  {
   "cell_type": "code",
   "execution_count": null,
   "metadata": {},
   "outputs": [],
   "source": [
    "# Plot probability distribution and confidence intervals\n",
    "# YOUR CODE HERE!"
   ]
  },
  {
   "cell_type": "code",
   "execution_count": null,
   "metadata": {},
   "outputs": [],
   "source": [
    "# Fetch summary statistics from the Monte Carlo simulation results\n",
    "# YOUR CODE HERE!\n",
    "\n",
    "# Print summary statistics\n",
    "# YOUR CODE HERE!"
   ]
  },
  {
   "cell_type": "code",
   "execution_count": null,
   "metadata": {},
   "outputs": [],
   "source": [
    "# Set initial investment\n",
    "# YOUR CODE HERE!\n",
    "\n",
    "# Use the lower and upper `95%` confidence intervals to calculate the range of the possible outcomes of our $60,000\n",
    "# YOUR CODE HERE!\n",
    "\n",
    "# Print results\n",
    "print(f\"There is a 95% chance that an initial investment of ${initial_investment} in the portfolio\"\n",
    "      f\" over the next 5 years will end within in the range of\"\n",
    "      f\" ${ci_lower_five} and ${ci_upper_five}\")"
   ]
  },
  {
   "cell_type": "markdown",
   "metadata": {},
   "source": [
    "### Ten Years Retirement Option"
   ]
  },
  {
   "cell_type": "code",
   "execution_count": null,
   "metadata": {},
   "outputs": [],
   "source": [
    "# Configuring a Monte Carlo simulation to forecast 10 years cumulative returns\n",
    "# YOUR CODE HERE!"
   ]
  },
  {
   "cell_type": "code",
   "execution_count": null,
   "metadata": {},
   "outputs": [],
   "source": [
    "# Running a Monte Carlo simulation to forecast 10 years cumulative returns\n",
    "# YOUR CODE HERE!"
   ]
  },
  {
   "cell_type": "code",
   "execution_count": null,
   "metadata": {},
   "outputs": [],
   "source": [
    "# Plot simulation outcomes\n",
    "# YOUR CODE HERE!"
   ]
  },
  {
   "cell_type": "code",
   "execution_count": null,
   "metadata": {},
   "outputs": [],
   "source": [
    "# Plot probability distribution and confidence intervals\n",
    "# YOUR CODE HERE!"
   ]
  },
  {
   "cell_type": "code",
   "execution_count": null,
   "metadata": {},
   "outputs": [],
   "source": [
    "# Fetch summary statistics from the Monte Carlo simulation results\n",
    "# YOUR CODE HERE!\n",
    "\n",
    "# Print summary statistics\n",
    "# YOUR CODE HERE!"
   ]
  },
  {
   "cell_type": "code",
   "execution_count": null,
   "metadata": {},
   "outputs": [],
   "source": [
    "# Set initial investment\n",
    "# YOUR CODE HERE!\n",
    "\n",
    "# Use the lower and upper `95%` confidence intervals to calculate the range of the possible outcomes of our $60,000\n",
    "# YOUR CODE HERE!\n",
    "\n",
    "# Print results\n",
    "print(f\"There is a 95% chance that an initial investment of ${initial_investment} in the portfolio\"\n",
    "      f\" over the next 10 years will end within in the range of\"\n",
    "      f\" ${ci_lower_ten} and ${ci_upper_ten}\")"
   ]
  }
 ],
 "metadata": {
  "kernelspec": {
   "display_name": "Python 3",
   "language": "python",
   "name": "python3"
  },
  "language_info": {
   "codemirror_mode": {
    "name": "ipython",
    "version": 3
   },
   "file_extension": ".py",
   "mimetype": "text/x-python",
   "name": "python",
   "nbconvert_exporter": "python",
   "pygments_lexer": "ipython3",
   "version": "3.7.10"
  }
 },
 "nbformat": 4,
 "nbformat_minor": 4
}
