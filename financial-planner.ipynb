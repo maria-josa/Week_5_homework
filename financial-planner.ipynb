{
 "cells": [
  {
   "cell_type": "markdown",
   "metadata": {},
   "source": [
    "# Unit 5 - Financial Planning\n"
   ]
  },
  {
   "cell_type": "code",
   "execution_count": 1,
   "metadata": {},
   "outputs": [],
   "source": [
    "# Initial imports\n",
    "import os\n",
    "import requests\n",
    "import pandas as pd\n",
    "from dotenv import load_dotenv\n",
    "import alpaca_trade_api as tradeapi\n",
    "from MCForecastTools import MCSimulation\n",
    "\n",
    "%matplotlib inline\n"
   ]
  },
  {
   "cell_type": "code",
   "execution_count": 2,
   "metadata": {},
   "outputs": [
    {
     "data": {
      "text/plain": [
       "True"
      ]
     },
     "execution_count": 2,
     "metadata": {},
     "output_type": "execute_result"
    }
   ],
   "source": [
    "# Load .env enviroment variables\n",
    "load_dotenv()"
   ]
  },
  {
   "cell_type": "markdown",
   "metadata": {},
   "source": [
    "## Part 1 - Personal Finance Planner"
   ]
  },
  {
   "cell_type": "markdown",
   "metadata": {},
   "source": [
    "### Collect Crypto Prices Using the `requests` Library"
   ]
  },
  {
   "cell_type": "code",
   "execution_count": 3,
   "metadata": {},
   "outputs": [],
   "source": [
    "# Set current amount of crypto assets\n",
    "my_btc = 1.2\n",
    "my_eth = 5.3"
   ]
  },
  {
   "cell_type": "code",
   "execution_count": 4,
   "metadata": {},
   "outputs": [],
   "source": [
    "# Crypto API URLs\n",
    "btc_url = \"https://api.alternative.me/v2/ticker/Bitcoin/?convert=USD\"\n",
    "eth_url = \"https://api.alternative.me/v2/ticker/Ethereum/?convert=USD\"\n",
    "btc_data = requests.get(btc_url).json()\n",
    "eth_data = requests.get(eth_url).json() "
   ]
  },
  {
   "cell_type": "code",
   "execution_count": 5,
   "metadata": {},
   "outputs": [],
   "source": [
    "import json"
   ]
  },
  {
   "cell_type": "code",
   "execution_count": 6,
   "metadata": {},
   "outputs": [
    {
     "name": "stdout",
     "output_type": "stream",
     "text": [
      "{\n",
      "    \"data\": {\n",
      "        \"1\": {\n",
      "            \"id\": 1,\n",
      "            \"name\": \"Bitcoin\",\n",
      "            \"symbol\": \"BTC\",\n",
      "            \"website_slug\": \"bitcoin\",\n",
      "            \"rank\": 1,\n",
      "            \"circulating_supply\": 18866406,\n",
      "            \"total_supply\": 18866406,\n",
      "            \"max_supply\": 21000000,\n",
      "            \"quotes\": {\n",
      "                \"USD\": {\n",
      "                    \"price\": 62147.0,\n",
      "                    \"volume_24h\": 28244229931,\n",
      "                    \"market_cap\": 1168860956217,\n",
      "                    \"percentage_change_1h\": -0.111585831515705,\n",
      "                    \"percentage_change_24h\": 2.22585010463882,\n",
      "                    \"percentage_change_7d\": 0.501489054744703,\n",
      "                    \"percent_change_1h\": -0.111585831515705,\n",
      "                    \"percent_change_24h\": 2.22585010463882,\n",
      "                    \"percent_change_7d\": 0.501489054744703\n",
      "                }\n",
      "            },\n",
      "            \"last_updated\": 1636291711\n",
      "        }\n",
      "    },\n",
      "    \"metadata\": {\n",
      "        \"timestamp\": 1636291711,\n",
      "        \"num_cryptocurrencies\": 3105,\n",
      "        \"error\": null\n",
      "    }\n",
      "}\n"
     ]
    }
   ],
   "source": [
    "print(json.dumps(btc_data, indent=4))"
   ]
  },
  {
   "cell_type": "code",
   "execution_count": 7,
   "metadata": {},
   "outputs": [
    {
     "data": {
      "text/plain": [
       "62147.0"
      ]
     },
     "execution_count": 7,
     "metadata": {},
     "output_type": "execute_result"
    }
   ],
   "source": [
    "# Fetch current BTC price\n",
    "btc_price= btc_data['data']['1']['quotes']['USD']['price']\n",
    "btc_price"
   ]
  },
  {
   "cell_type": "code",
   "execution_count": 8,
   "metadata": {},
   "outputs": [
    {
     "name": "stdout",
     "output_type": "stream",
     "text": [
      "{\n",
      "    \"data\": {\n",
      "        \"1027\": {\n",
      "            \"id\": 1027,\n",
      "            \"name\": \"Ethereum\",\n",
      "            \"symbol\": \"ETH\",\n",
      "            \"website_slug\": \"ethereum\",\n",
      "            \"rank\": 2,\n",
      "            \"circulating_supply\": 118245017,\n",
      "            \"total_supply\": 118245017,\n",
      "            \"max_supply\": 0,\n",
      "            \"quotes\": {\n",
      "                \"USD\": {\n",
      "                    \"price\": 4620.47,\n",
      "                    \"volume_24h\": 16747276047,\n",
      "                    \"market_cap\": 544570884269,\n",
      "                    \"percentage_change_1h\": 0.098677360752807,\n",
      "                    \"percentage_change_24h\": 4.7313340943595,\n",
      "                    \"percentage_change_7d\": 6.84134812524768,\n",
      "                    \"percent_change_1h\": 0.098677360752807,\n",
      "                    \"percent_change_24h\": 4.7313340943595,\n",
      "                    \"percent_change_7d\": 6.84134812524768\n",
      "                }\n",
      "            },\n",
      "            \"last_updated\": 1636291704\n",
      "        }\n",
      "    },\n",
      "    \"metadata\": {\n",
      "        \"timestamp\": 1636291704,\n",
      "        \"num_cryptocurrencies\": 3105,\n",
      "        \"error\": null\n",
      "    }\n",
      "}\n"
     ]
    }
   ],
   "source": [
    "print(json.dumps(eth_data, indent=4))"
   ]
  },
  {
   "cell_type": "code",
   "execution_count": 9,
   "metadata": {},
   "outputs": [
    {
     "data": {
      "text/plain": [
       "4620.47"
      ]
     },
     "execution_count": 9,
     "metadata": {},
     "output_type": "execute_result"
    }
   ],
   "source": [
    "# Fetch current ETH price\n",
    "eth_price= eth_data['data']['1027']['quotes']['USD']['price']\n",
    "eth_price"
   ]
  },
  {
   "cell_type": "code",
   "execution_count": 10,
   "metadata": {},
   "outputs": [
    {
     "name": "stdout",
     "output_type": "stream",
     "text": [
      "The current value of your 1.2 BTC is $74576.40\n",
      "The current value of your 5.3 ETH is $24488.49\n"
     ]
    }
   ],
   "source": [
    "# Compute current value of my crpto\n",
    "my_btc_value = btc_price * my_btc\n",
    "\n",
    "my_eth_value = eth_price * my_eth\n",
    "\n",
    "# Print current crypto wallet balance\n",
    "print(f\"The current value of your {my_btc} BTC is ${my_btc_value:0.2f}\")\n",
    "print(f\"The current value of your {my_eth} ETH is ${my_eth_value:0.2f}\")"
   ]
  },
  {
   "cell_type": "code",
   "execution_count": 11,
   "metadata": {},
   "outputs": [
    {
     "data": {
      "text/plain": [
       "99064.891"
      ]
     },
     "execution_count": 11,
     "metadata": {},
     "output_type": "execute_result"
    }
   ],
   "source": [
    "total_crypto = my_btc_value + my_eth_value\n",
    "total_crypto"
   ]
  },
  {
   "cell_type": "markdown",
   "metadata": {},
   "source": [
    "### Collect Investments Data Using Alpaca: `SPY` (stocks) and `AGG` (bonds)"
   ]
  },
  {
   "cell_type": "code",
   "execution_count": 12,
   "metadata": {},
   "outputs": [],
   "source": [
    "# Current amount of shares\n",
    "my_spy = 50\n",
    "my_agg = 200"
   ]
  },
  {
   "cell_type": "code",
   "execution_count": 13,
   "metadata": {},
   "outputs": [],
   "source": [
    "# Set Alpaca API key and secret\n",
    "alpaca_api_key = os.getenv(\"ALPACA_API_KEY\")\n",
    "alpaca_secret_key = os.getenv(\"ALPACA_SECRET_KEY\")\n",
    "\n",
    "# Create the Alpaca API object\n",
    "api = tradeapi.REST(\n",
    "    alpaca_api_key,\n",
    "    alpaca_secret_key,\n",
    "    api_version=\"v2\")"
   ]
  },
  {
   "cell_type": "code",
   "execution_count": 14,
   "metadata": {},
   "outputs": [
    {
     "name": "stdout",
     "output_type": "stream",
     "text": [
      "Alpaca Key type: <class 'str'>\n",
      "Alpaca Secret Key type: <class 'str'>\n"
     ]
    }
   ],
   "source": [
    "print(f\"Alpaca Key type: {type(alpaca_api_key)}\")\n",
    "print(f\"Alpaca Secret Key type: {type(alpaca_secret_key)}\")"
   ]
  },
  {
   "cell_type": "code",
   "execution_count": 15,
   "metadata": {},
   "outputs": [
    {
     "data": {
      "text/html": [
       "<div>\n",
       "<style scoped>\n",
       "    .dataframe tbody tr th:only-of-type {\n",
       "        vertical-align: middle;\n",
       "    }\n",
       "\n",
       "    .dataframe tbody tr th {\n",
       "        vertical-align: top;\n",
       "    }\n",
       "\n",
       "    .dataframe thead tr th {\n",
       "        text-align: left;\n",
       "    }\n",
       "\n",
       "    .dataframe thead tr:last-of-type th {\n",
       "        text-align: right;\n",
       "    }\n",
       "</style>\n",
       "<table border=\"1\" class=\"dataframe\">\n",
       "  <thead>\n",
       "    <tr>\n",
       "      <th></th>\n",
       "      <th colspan=\"5\" halign=\"left\">AGG</th>\n",
       "      <th colspan=\"5\" halign=\"left\">SPY</th>\n",
       "    </tr>\n",
       "    <tr>\n",
       "      <th></th>\n",
       "      <th>open</th>\n",
       "      <th>high</th>\n",
       "      <th>low</th>\n",
       "      <th>close</th>\n",
       "      <th>volume</th>\n",
       "      <th>open</th>\n",
       "      <th>high</th>\n",
       "      <th>low</th>\n",
       "      <th>close</th>\n",
       "      <th>volume</th>\n",
       "    </tr>\n",
       "    <tr>\n",
       "      <th>time</th>\n",
       "      <th></th>\n",
       "      <th></th>\n",
       "      <th></th>\n",
       "      <th></th>\n",
       "      <th></th>\n",
       "      <th></th>\n",
       "      <th></th>\n",
       "      <th></th>\n",
       "      <th></th>\n",
       "      <th></th>\n",
       "    </tr>\n",
       "  </thead>\n",
       "  <tbody>\n",
       "    <tr>\n",
       "      <th>2021-11-05 00:00:00-04:00</th>\n",
       "      <td>114.99</td>\n",
       "      <td>115.3199</td>\n",
       "      <td>114.9001</td>\n",
       "      <td>115.24</td>\n",
       "      <td>6641501</td>\n",
       "      <td>469.28</td>\n",
       "      <td>470.65</td>\n",
       "      <td>466.92</td>\n",
       "      <td>468.49</td>\n",
       "      <td>56119290</td>\n",
       "    </tr>\n",
       "  </tbody>\n",
       "</table>\n",
       "</div>"
      ],
      "text/plain": [
       "                              AGG                                       \\\n",
       "                             open      high       low   close   volume   \n",
       "time                                                                     \n",
       "2021-11-05 00:00:00-04:00  114.99  115.3199  114.9001  115.24  6641501   \n",
       "\n",
       "                              SPY                                    \n",
       "                             open    high     low   close    volume  \n",
       "time                                                                 \n",
       "2021-11-05 00:00:00-04:00  469.28  470.65  466.92  468.49  56119290  "
      ]
     },
     "execution_count": 15,
     "metadata": {},
     "output_type": "execute_result"
    }
   ],
   "source": [
    "# Format current date as ISO format\n",
    "today = pd.Timestamp(\"2021-11-05\", tz=\"America/New_York\").isoformat()\n",
    "start_date = pd.Timestamp(\"2021-11-05\", tz=\"America/New_York\").isoformat()\n",
    "end_date = pd.Timestamp(\"2021-11-05\", tz=\"America/New_York\").isoformat()\n",
    "\n",
    "# Set timeframe to '1D' for Alpaca API\n",
    "timeframe = \"1D\"\n",
    "\n",
    "tickers = [\"AGG\", \"SPY\"]\n",
    "\n",
    "# Get current closing prices for SPY and AGG\n",
    "df_portfolio = api.get_barset(\n",
    "    tickers,\n",
    "    timeframe,\n",
    "    start = today,\n",
    "    end = today\n",
    ").df\n",
    "\n",
    "# Preview DataFrame\n",
    "df_portfolio"
   ]
  },
  {
   "cell_type": "code",
   "execution_count": 16,
   "metadata": {},
   "outputs": [
    {
     "name": "stdout",
     "output_type": "stream",
     "text": [
      "Current AGG closing price: $115.24\n",
      "Current SPY closing price: $468.49\n"
     ]
    }
   ],
   "source": [
    "# Pick AGG and SPY close prices\n",
    "agg_close_price = float(df_portfolio[\"AGG\"][\"close\"])\n",
    "spy_close_price = float(df_portfolio[\"SPY\"][\"close\"])\n",
    "\n",
    "# Print AGG and SPY close prices\n",
    "print(f\"Current AGG closing price: ${agg_close_price}\")\n",
    "print(f\"Current SPY closing price: ${spy_close_price}\")"
   ]
  },
  {
   "cell_type": "code",
   "execution_count": 17,
   "metadata": {},
   "outputs": [
    {
     "name": "stdout",
     "output_type": "stream",
     "text": [
      "The current value of your 50 SPY shares is $23424.50\n",
      "The current value of your 200 AGG shares is $23048.00\n"
     ]
    }
   ],
   "source": [
    "# Compute the current value of shares\n",
    "my_agg_value = agg_close_price * my_agg\n",
    "my_spy_value = spy_close_price * my_spy\n",
    "\n",
    "# Print current value of share\n",
    "print(f\"The current value of your {my_spy} SPY shares is ${my_spy_value:0.2f}\")\n",
    "print(f\"The current value of your {my_agg} AGG shares is ${my_agg_value:0.2f}\")"
   ]
  },
  {
   "cell_type": "code",
   "execution_count": 18,
   "metadata": {},
   "outputs": [
    {
     "data": {
      "text/plain": [
       "46472.5"
      ]
     },
     "execution_count": 18,
     "metadata": {},
     "output_type": "execute_result"
    }
   ],
   "source": [
    "total_shares = my_agg_value + my_spy_value\n",
    "total_shares"
   ]
  },
  {
   "cell_type": "markdown",
   "metadata": {},
   "source": [
    "### Savings Health Analysis"
   ]
  },
  {
   "cell_type": "code",
   "execution_count": 19,
   "metadata": {},
   "outputs": [
    {
     "data": {
      "text/html": [
       "<div>\n",
       "<style scoped>\n",
       "    .dataframe tbody tr th:only-of-type {\n",
       "        vertical-align: middle;\n",
       "    }\n",
       "\n",
       "    .dataframe tbody tr th {\n",
       "        vertical-align: top;\n",
       "    }\n",
       "\n",
       "    .dataframe thead th {\n",
       "        text-align: right;\n",
       "    }\n",
       "</style>\n",
       "<table border=\"1\" class=\"dataframe\">\n",
       "  <thead>\n",
       "    <tr style=\"text-align: right;\">\n",
       "      <th></th>\n",
       "      <th>Amount</th>\n",
       "    </tr>\n",
       "  </thead>\n",
       "  <tbody>\n",
       "    <tr>\n",
       "      <th>Crypto</th>\n",
       "      <td>99064.891</td>\n",
       "    </tr>\n",
       "    <tr>\n",
       "      <th>Shares</th>\n",
       "      <td>46472.500</td>\n",
       "    </tr>\n",
       "  </tbody>\n",
       "</table>\n",
       "</div>"
      ],
      "text/plain": [
       "           Amount\n",
       "Crypto  99064.891\n",
       "Shares  46472.500"
      ]
     },
     "metadata": {},
     "output_type": "display_data"
    }
   ],
   "source": [
    "# Set monthly household income\n",
    "monthly_income = 12000\n",
    "\n",
    "# Create savings DataFrame\n",
    "savings_data = {\n",
    "    \"Amount\": [total_crypto,total_shares]\n",
    "}\n",
    "\n",
    "#Set the tickers\n",
    "assets = [\"Crypto\", \"Shares\"]\n",
    "\n",
    "# Create the shares DataFrame\n",
    "df_savings = pd.DataFrame(savings_data, index= assets)\n",
    "\n",
    "# Display savings DataFrame\n",
    "display(df_savings)"
   ]
  },
  {
   "cell_type": "code",
   "execution_count": 20,
   "metadata": {},
   "outputs": [
    {
     "data": {
      "text/plain": [
       "<AxesSubplot:title={'center':'Investment Savings'}, ylabel='Amount'>"
      ]
     },
     "execution_count": 20,
     "metadata": {},
     "output_type": "execute_result"
    },
    {
     "data": {
      "image/png": "[encoded data removed]",
      "text/plain": [
       "<Figure size 432x288 with 1 Axes>"
      ]
     },
     "metadata": {},
     "output_type": "display_data"
    }
   ],
   "source": [
    "# Plot savings pie chart\n",
    "df_savings.plot.pie(y=\"Amount\", title= \"Investment Savings\" )"
   ]
  },
  {
   "cell_type": "code",
   "execution_count": 21,
   "metadata": {},
   "outputs": [
    {
     "data": {
      "text/plain": [
       "36000"
      ]
     },
     "execution_count": 21,
     "metadata": {},
     "output_type": "execute_result"
    }
   ],
   "source": [
    "# Set ideal emergency fund\n",
    "ideal_emergency_fund = monthly_income * 3\n",
    "ideal_emergency_fund"
   ]
  },
  {
   "cell_type": "code",
   "execution_count": 22,
   "metadata": {},
   "outputs": [
    {
     "data": {
      "text/plain": [
       "145537.39"
      ]
     },
     "execution_count": 22,
     "metadata": {},
     "output_type": "execute_result"
    }
   ],
   "source": [
    "# Calculate total amount of savings\n",
    "total_savings = round((total_crypto + total_shares),2)\n",
    "total_savings"
   ]
  },
  {
   "cell_type": "code",
   "execution_count": 23,
   "metadata": {},
   "outputs": [
    {
     "name": "stdout",
     "output_type": "stream",
     "text": [
      "Congratulations!! you have $145537.39 you have more than enough funds\n"
     ]
    }
   ],
   "source": [
    "# Validate saving health\n",
    "if total_savings > ideal_emergency_fund:\n",
    "    print(f\"Congratulations!! you have ${total_savings} you have more than enough funds\")\n",
    "elif total_savings == ideal_emergency_fund:\n",
    "    print(f\"Congratulations in reaching your goal of {total_savings}\")\n",
    "else: \n",
    "    print(f\"You're almost at your goal, you need to save ({ideal_emergency_fund}-{total_savings})\")\n"
   ]
  },
  {
   "cell_type": "markdown",
   "metadata": {},
   "source": [
    "## Part 2 - Retirement Planning\n",
    "\n",
    "### Monte Carlo Simulation"
   ]
  },
  {
   "cell_type": "code",
   "execution_count": 24,
   "metadata": {},
   "outputs": [],
   "source": [
    "# Set start and end dates of five years back from today.\n",
    "# Sample results may vary from the solution based on the time frame chosen\n",
    "start_date = pd.Timestamp('2016-11-05', tz='America/New_York').isoformat()\n",
    "end_date = pd.Timestamp('2021-11-05', tz='America/New_York').isoformat()"
   ]
  },
  {
   "cell_type": "code",
   "execution_count": 25,
   "metadata": {},
   "outputs": [
    {
     "data": {
      "text/html": [
       "<div>\n",
       "<style scoped>\n",
       "    .dataframe tbody tr th:only-of-type {\n",
       "        vertical-align: middle;\n",
       "    }\n",
       "\n",
       "    .dataframe tbody tr th {\n",
       "        vertical-align: top;\n",
       "    }\n",
       "\n",
       "    .dataframe thead tr th {\n",
       "        text-align: left;\n",
       "    }\n",
       "\n",
       "    .dataframe thead tr:last-of-type th {\n",
       "        text-align: right;\n",
       "    }\n",
       "</style>\n",
       "<table border=\"1\" class=\"dataframe\">\n",
       "  <thead>\n",
       "    <tr>\n",
       "      <th></th>\n",
       "      <th colspan=\"5\" halign=\"left\">AGG</th>\n",
       "      <th colspan=\"5\" halign=\"left\">SPY</th>\n",
       "    </tr>\n",
       "    <tr>\n",
       "      <th></th>\n",
       "      <th>open</th>\n",
       "      <th>high</th>\n",
       "      <th>low</th>\n",
       "      <th>close</th>\n",
       "      <th>volume</th>\n",
       "      <th>open</th>\n",
       "      <th>high</th>\n",
       "      <th>low</th>\n",
       "      <th>close</th>\n",
       "      <th>volume</th>\n",
       "    </tr>\n",
       "    <tr>\n",
       "      <th>time</th>\n",
       "      <th></th>\n",
       "      <th></th>\n",
       "      <th></th>\n",
       "      <th></th>\n",
       "      <th></th>\n",
       "      <th></th>\n",
       "      <th></th>\n",
       "      <th></th>\n",
       "      <th></th>\n",
       "      <th></th>\n",
       "    </tr>\n",
       "  </thead>\n",
       "  <tbody>\n",
       "    <tr>\n",
       "      <th>2021-06-17 00:00:00-04:00</th>\n",
       "      <td>114.792</td>\n",
       "      <td>115.250</td>\n",
       "      <td>114.785</td>\n",
       "      <td>114.99</td>\n",
       "      <td>7417691</td>\n",
       "      <td>421.67</td>\n",
       "      <td>423.0200</td>\n",
       "      <td>419.32</td>\n",
       "      <td>421.97</td>\n",
       "      <td>71991686</td>\n",
       "    </tr>\n",
       "    <tr>\n",
       "      <th>2021-06-18 00:00:00-04:00</th>\n",
       "      <td>115.050</td>\n",
       "      <td>115.390</td>\n",
       "      <td>114.910</td>\n",
       "      <td>115.29</td>\n",
       "      <td>5438261</td>\n",
       "      <td>417.08</td>\n",
       "      <td>417.8281</td>\n",
       "      <td>414.70</td>\n",
       "      <td>415.01</td>\n",
       "      <td>92753385</td>\n",
       "    </tr>\n",
       "    <tr>\n",
       "      <th>2021-06-21 00:00:00-04:00</th>\n",
       "      <td>115.060</td>\n",
       "      <td>115.120</td>\n",
       "      <td>114.921</td>\n",
       "      <td>114.96</td>\n",
       "      <td>4934966</td>\n",
       "      <td>416.80</td>\n",
       "      <td>421.0600</td>\n",
       "      <td>415.93</td>\n",
       "      <td>420.85</td>\n",
       "      <td>63727942</td>\n",
       "    </tr>\n",
       "    <tr>\n",
       "      <th>2021-06-22 00:00:00-04:00</th>\n",
       "      <td>114.830</td>\n",
       "      <td>115.140</td>\n",
       "      <td>114.830</td>\n",
       "      <td>115.11</td>\n",
       "      <td>5299846</td>\n",
       "      <td>420.85</td>\n",
       "      <td>424.0000</td>\n",
       "      <td>420.08</td>\n",
       "      <td>423.06</td>\n",
       "      <td>50857233</td>\n",
       "    </tr>\n",
       "    <tr>\n",
       "      <th>2021-06-23 00:00:00-04:00</th>\n",
       "      <td>115.060</td>\n",
       "      <td>115.138</td>\n",
       "      <td>114.990</td>\n",
       "      <td>115.05</td>\n",
       "      <td>5000374</td>\n",
       "      <td>423.19</td>\n",
       "      <td>424.0500</td>\n",
       "      <td>422.51</td>\n",
       "      <td>422.60</td>\n",
       "      <td>41476351</td>\n",
       "    </tr>\n",
       "  </tbody>\n",
       "</table>\n",
       "</div>"
      ],
      "text/plain": [
       "                               AGG                                        SPY  \\\n",
       "                              open     high      low   close   volume    open   \n",
       "time                                                                            \n",
       "2021-06-17 00:00:00-04:00  114.792  115.250  114.785  114.99  7417691  421.67   \n",
       "2021-06-18 00:00:00-04:00  115.050  115.390  114.910  115.29  5438261  417.08   \n",
       "2021-06-21 00:00:00-04:00  115.060  115.120  114.921  114.96  4934966  416.80   \n",
       "2021-06-22 00:00:00-04:00  114.830  115.140  114.830  115.11  5299846  420.85   \n",
       "2021-06-23 00:00:00-04:00  115.060  115.138  114.990  115.05  5000374  423.19   \n",
       "\n",
       "                                                               \n",
       "                               high     low   close    volume  \n",
       "time                                                           \n",
       "2021-06-17 00:00:00-04:00  423.0200  419.32  421.97  71991686  \n",
       "2021-06-18 00:00:00-04:00  417.8281  414.70  415.01  92753385  \n",
       "2021-06-21 00:00:00-04:00  421.0600  415.93  420.85  63727942  \n",
       "2021-06-22 00:00:00-04:00  424.0000  420.08  423.06  50857233  \n",
       "2021-06-23 00:00:00-04:00  424.0500  422.51  422.60  41476351  "
      ]
     },
     "execution_count": 25,
     "metadata": {},
     "output_type": "execute_result"
    }
   ],
   "source": [
    "# Get 5 years' worth of historical data for SPY and AGG\n",
    "# YOUR CODE HERE!\n",
    "df_stock_data = api.get_barset(\n",
    "    tickers,\n",
    "    timeframe,\n",
    "    start = start_date,\n",
    "    end = end_date\n",
    ").df\n",
    "\n",
    "# Display sample data\n",
    "df_stock_data.head()"
   ]
  },
  {
   "cell_type": "code",
   "execution_count": 26,
   "metadata": {},
   "outputs": [],
   "source": [
    "# Configuring a Monte Carlo simulation to forecast 30 years cumulative returns\n",
    "num_sims = 500\n",
    "\n",
    "MC_Shares = MCSimulation(\n",
    "    portfolio_data = df_stock_data,\n",
    "    weights = [.40,.60],\n",
    "    num_simulation = num_sims,\n",
    "    num_trading_days = 252*30\n",
    ")"
   ]
  },
  {
   "cell_type": "code",
   "execution_count": 27,
   "metadata": {},
   "outputs": [
    {
     "data": {
      "text/html": [
       "<div>\n",
       "<style scoped>\n",
       "    .dataframe tbody tr th:only-of-type {\n",
       "        vertical-align: middle;\n",
       "    }\n",
       "\n",
       "    .dataframe tbody tr th {\n",
       "        vertical-align: top;\n",
       "    }\n",
       "\n",
       "    .dataframe thead tr th {\n",
       "        text-align: left;\n",
       "    }\n",
       "\n",
       "    .dataframe thead tr:last-of-type th {\n",
       "        text-align: right;\n",
       "    }\n",
       "</style>\n",
       "<table border=\"1\" class=\"dataframe\">\n",
       "  <thead>\n",
       "    <tr>\n",
       "      <th></th>\n",
       "      <th colspan=\"6\" halign=\"left\">AGG</th>\n",
       "      <th colspan=\"6\" halign=\"left\">SPY</th>\n",
       "    </tr>\n",
       "    <tr>\n",
       "      <th></th>\n",
       "      <th>open</th>\n",
       "      <th>high</th>\n",
       "      <th>low</th>\n",
       "      <th>close</th>\n",
       "      <th>volume</th>\n",
       "      <th>daily_return</th>\n",
       "      <th>open</th>\n",
       "      <th>high</th>\n",
       "      <th>low</th>\n",
       "      <th>close</th>\n",
       "      <th>volume</th>\n",
       "      <th>daily_return</th>\n",
       "    </tr>\n",
       "    <tr>\n",
       "      <th>time</th>\n",
       "      <th></th>\n",
       "      <th></th>\n",
       "      <th></th>\n",
       "      <th></th>\n",
       "      <th></th>\n",
       "      <th></th>\n",
       "      <th></th>\n",
       "      <th></th>\n",
       "      <th></th>\n",
       "      <th></th>\n",
       "      <th></th>\n",
       "      <th></th>\n",
       "    </tr>\n",
       "  </thead>\n",
       "  <tbody>\n",
       "    <tr>\n",
       "      <th>2021-06-17 00:00:00-04:00</th>\n",
       "      <td>114.792</td>\n",
       "      <td>115.250</td>\n",
       "      <td>114.785</td>\n",
       "      <td>114.99</td>\n",
       "      <td>7417691</td>\n",
       "      <td>NaN</td>\n",
       "      <td>421.67</td>\n",
       "      <td>423.0200</td>\n",
       "      <td>419.32</td>\n",
       "      <td>421.97</td>\n",
       "      <td>71991686</td>\n",
       "      <td>NaN</td>\n",
       "    </tr>\n",
       "    <tr>\n",
       "      <th>2021-06-18 00:00:00-04:00</th>\n",
       "      <td>115.050</td>\n",
       "      <td>115.390</td>\n",
       "      <td>114.910</td>\n",
       "      <td>115.29</td>\n",
       "      <td>5438261</td>\n",
       "      <td>0.002609</td>\n",
       "      <td>417.08</td>\n",
       "      <td>417.8281</td>\n",
       "      <td>414.70</td>\n",
       "      <td>415.01</td>\n",
       "      <td>92753385</td>\n",
       "      <td>-0.016494</td>\n",
       "    </tr>\n",
       "    <tr>\n",
       "      <th>2021-06-21 00:00:00-04:00</th>\n",
       "      <td>115.060</td>\n",
       "      <td>115.120</td>\n",
       "      <td>114.921</td>\n",
       "      <td>114.96</td>\n",
       "      <td>4934966</td>\n",
       "      <td>-0.002862</td>\n",
       "      <td>416.80</td>\n",
       "      <td>421.0600</td>\n",
       "      <td>415.93</td>\n",
       "      <td>420.85</td>\n",
       "      <td>63727942</td>\n",
       "      <td>0.014072</td>\n",
       "    </tr>\n",
       "    <tr>\n",
       "      <th>2021-06-22 00:00:00-04:00</th>\n",
       "      <td>114.830</td>\n",
       "      <td>115.140</td>\n",
       "      <td>114.830</td>\n",
       "      <td>115.11</td>\n",
       "      <td>5299846</td>\n",
       "      <td>0.001305</td>\n",
       "      <td>420.85</td>\n",
       "      <td>424.0000</td>\n",
       "      <td>420.08</td>\n",
       "      <td>423.06</td>\n",
       "      <td>50857233</td>\n",
       "      <td>0.005251</td>\n",
       "    </tr>\n",
       "    <tr>\n",
       "      <th>2021-06-23 00:00:00-04:00</th>\n",
       "      <td>115.060</td>\n",
       "      <td>115.138</td>\n",
       "      <td>114.990</td>\n",
       "      <td>115.05</td>\n",
       "      <td>5000374</td>\n",
       "      <td>-0.000521</td>\n",
       "      <td>423.19</td>\n",
       "      <td>424.0500</td>\n",
       "      <td>422.51</td>\n",
       "      <td>422.60</td>\n",
       "      <td>41476351</td>\n",
       "      <td>-0.001087</td>\n",
       "    </tr>\n",
       "  </tbody>\n",
       "</table>\n",
       "</div>"
      ],
      "text/plain": [
       "                               AGG                                     \\\n",
       "                              open     high      low   close   volume   \n",
       "time                                                                    \n",
       "2021-06-17 00:00:00-04:00  114.792  115.250  114.785  114.99  7417691   \n",
       "2021-06-18 00:00:00-04:00  115.050  115.390  114.910  115.29  5438261   \n",
       "2021-06-21 00:00:00-04:00  115.060  115.120  114.921  114.96  4934966   \n",
       "2021-06-22 00:00:00-04:00  114.830  115.140  114.830  115.11  5299846   \n",
       "2021-06-23 00:00:00-04:00  115.060  115.138  114.990  115.05  5000374   \n",
       "\n",
       "                                           SPY                            \\\n",
       "                          daily_return    open      high     low   close   \n",
       "time                                                                       \n",
       "2021-06-17 00:00:00-04:00          NaN  421.67  423.0200  419.32  421.97   \n",
       "2021-06-18 00:00:00-04:00     0.002609  417.08  417.8281  414.70  415.01   \n",
       "2021-06-21 00:00:00-04:00    -0.002862  416.80  421.0600  415.93  420.85   \n",
       "2021-06-22 00:00:00-04:00     0.001305  420.85  424.0000  420.08  423.06   \n",
       "2021-06-23 00:00:00-04:00    -0.000521  423.19  424.0500  422.51  422.60   \n",
       "\n",
       "                                                  \n",
       "                             volume daily_return  \n",
       "time                                              \n",
       "2021-06-17 00:00:00-04:00  71991686          NaN  \n",
       "2021-06-18 00:00:00-04:00  92753385    -0.016494  \n",
       "2021-06-21 00:00:00-04:00  63727942     0.014072  \n",
       "2021-06-22 00:00:00-04:00  50857233     0.005251  \n",
       "2021-06-23 00:00:00-04:00  41476351    -0.001087  "
      ]
     },
     "execution_count": 27,
     "metadata": {},
     "output_type": "execute_result"
    }
   ],
   "source": [
    "# Printing the simulation input data\n",
    "MC_Shares.portfolio_data.head()"
   ]
  },
  {
   "cell_type": "code",
   "execution_count": 28,
   "metadata": {},
   "outputs": [
    {
     "name": "stdout",
     "output_type": "stream",
     "text": [
      "Running Monte Carlo simulation number 0.\n",
      "Running Monte Carlo simulation number 10.\n",
      "Running Monte Carlo simulation number 20.\n",
      "Running Monte Carlo simulation number 30.\n",
      "Running Monte Carlo simulation number 40.\n",
      "Running Monte Carlo simulation number 50.\n",
      "Running Monte Carlo simulation number 60.\n",
      "Running Monte Carlo simulation number 70.\n",
      "Running Monte Carlo simulation number 80.\n",
      "Running Monte Carlo simulation number 90.\n",
      "Running Monte Carlo simulation number 100.\n",
      "Running Monte Carlo simulation number 110.\n",
      "Running Monte Carlo simulation number 120.\n",
      "Running Monte Carlo simulation number 130.\n",
      "Running Monte Carlo simulation number 140.\n",
      "Running Monte Carlo simulation number 150.\n",
      "Running Monte Carlo simulation number 160.\n",
      "Running Monte Carlo simulation number 170.\n",
      "Running Monte Carlo simulation number 180.\n",
      "Running Monte Carlo simulation number 190.\n",
      "Running Monte Carlo simulation number 200.\n",
      "Running Monte Carlo simulation number 210.\n",
      "Running Monte Carlo simulation number 220.\n",
      "Running Monte Carlo simulation number 230.\n",
      "Running Monte Carlo simulation number 240.\n",
      "Running Monte Carlo simulation number 250.\n",
      "Running Monte Carlo simulation number 260.\n",
      "Running Monte Carlo simulation number 270.\n",
      "Running Monte Carlo simulation number 280.\n",
      "Running Monte Carlo simulation number 290.\n",
      "Running Monte Carlo simulation number 300.\n",
      "Running Monte Carlo simulation number 310.\n",
      "Running Monte Carlo simulation number 320.\n",
      "Running Monte Carlo simulation number 330.\n",
      "Running Monte Carlo simulation number 340.\n",
      "Running Monte Carlo simulation number 350.\n",
      "Running Monte Carlo simulation number 360.\n",
      "Running Monte Carlo simulation number 370.\n",
      "Running Monte Carlo simulation number 380.\n",
      "Running Monte Carlo simulation number 390.\n",
      "Running Monte Carlo simulation number 400.\n",
      "Running Monte Carlo simulation number 410.\n",
      "Running Monte Carlo simulation number 420.\n",
      "Running Monte Carlo simulation number 430.\n",
      "Running Monte Carlo simulation number 440.\n",
      "Running Monte Carlo simulation number 450.\n",
      "Running Monte Carlo simulation number 460.\n",
      "Running Monte Carlo simulation number 470.\n",
      "Running Monte Carlo simulation number 480.\n",
      "Running Monte Carlo simulation number 490.\n"
     ]
    },
    {
     "data": {
      "text/html": [
       "<div>\n",
       "<style scoped>\n",
       "    .dataframe tbody tr th:only-of-type {\n",
       "        vertical-align: middle;\n",
       "    }\n",
       "\n",
       "    .dataframe tbody tr th {\n",
       "        vertical-align: top;\n",
       "    }\n",
       "\n",
       "    .dataframe thead th {\n",
       "        text-align: right;\n",
       "    }\n",
       "</style>\n",
       "<table border=\"1\" class=\"dataframe\">\n",
       "  <thead>\n",
       "    <tr style=\"text-align: right;\">\n",
       "      <th></th>\n",
       "      <th>0</th>\n",
       "      <th>1</th>\n",
       "      <th>2</th>\n",
       "      <th>3</th>\n",
       "      <th>4</th>\n",
       "      <th>5</th>\n",
       "      <th>6</th>\n",
       "      <th>7</th>\n",
       "      <th>8</th>\n",
       "      <th>9</th>\n",
       "      <th>...</th>\n",
       "      <th>490</th>\n",
       "      <th>491</th>\n",
       "      <th>492</th>\n",
       "      <th>493</th>\n",
       "      <th>494</th>\n",
       "      <th>495</th>\n",
       "      <th>496</th>\n",
       "      <th>497</th>\n",
       "      <th>498</th>\n",
       "      <th>499</th>\n",
       "    </tr>\n",
       "  </thead>\n",
       "  <tbody>\n",
       "    <tr>\n",
       "      <th>0</th>\n",
       "      <td>1.000000</td>\n",
       "      <td>1.000000</td>\n",
       "      <td>1.000000</td>\n",
       "      <td>1.000000</td>\n",
       "      <td>1.000000</td>\n",
       "      <td>1.000000</td>\n",
       "      <td>1.000000</td>\n",
       "      <td>1.000000</td>\n",
       "      <td>1.000000</td>\n",
       "      <td>1.000000</td>\n",
       "      <td>...</td>\n",
       "      <td>1.000000</td>\n",
       "      <td>1.000000</td>\n",
       "      <td>1.000000</td>\n",
       "      <td>1.000000</td>\n",
       "      <td>1.000000</td>\n",
       "      <td>1.000000</td>\n",
       "      <td>1.000000</td>\n",
       "      <td>1.000000</td>\n",
       "      <td>1.000000</td>\n",
       "      <td>1.000000</td>\n",
       "    </tr>\n",
       "    <tr>\n",
       "      <th>1</th>\n",
       "      <td>1.002402</td>\n",
       "      <td>0.993440</td>\n",
       "      <td>1.000319</td>\n",
       "      <td>0.999934</td>\n",
       "      <td>1.004965</td>\n",
       "      <td>1.003059</td>\n",
       "      <td>0.994211</td>\n",
       "      <td>0.997109</td>\n",
       "      <td>0.995096</td>\n",
       "      <td>1.000432</td>\n",
       "      <td>...</td>\n",
       "      <td>1.000700</td>\n",
       "      <td>1.000807</td>\n",
       "      <td>1.008284</td>\n",
       "      <td>1.005188</td>\n",
       "      <td>1.000091</td>\n",
       "      <td>0.998728</td>\n",
       "      <td>0.993802</td>\n",
       "      <td>1.002373</td>\n",
       "      <td>0.998473</td>\n",
       "      <td>1.002754</td>\n",
       "    </tr>\n",
       "    <tr>\n",
       "      <th>2</th>\n",
       "      <td>0.999439</td>\n",
       "      <td>0.993888</td>\n",
       "      <td>0.996176</td>\n",
       "      <td>0.997666</td>\n",
       "      <td>1.009635</td>\n",
       "      <td>0.999690</td>\n",
       "      <td>0.998354</td>\n",
       "      <td>0.998345</td>\n",
       "      <td>0.990033</td>\n",
       "      <td>0.996887</td>\n",
       "      <td>...</td>\n",
       "      <td>0.998558</td>\n",
       "      <td>1.000609</td>\n",
       "      <td>1.020218</td>\n",
       "      <td>1.008052</td>\n",
       "      <td>1.005486</td>\n",
       "      <td>0.998704</td>\n",
       "      <td>1.000783</td>\n",
       "      <td>1.004440</td>\n",
       "      <td>0.994659</td>\n",
       "      <td>1.005259</td>\n",
       "    </tr>\n",
       "    <tr>\n",
       "      <th>3</th>\n",
       "      <td>1.001642</td>\n",
       "      <td>0.995512</td>\n",
       "      <td>0.986144</td>\n",
       "      <td>1.003959</td>\n",
       "      <td>1.004721</td>\n",
       "      <td>0.999834</td>\n",
       "      <td>0.998015</td>\n",
       "      <td>0.998006</td>\n",
       "      <td>0.991049</td>\n",
       "      <td>1.000991</td>\n",
       "      <td>...</td>\n",
       "      <td>0.998447</td>\n",
       "      <td>0.993121</td>\n",
       "      <td>1.017846</td>\n",
       "      <td>1.005694</td>\n",
       "      <td>1.004416</td>\n",
       "      <td>0.998375</td>\n",
       "      <td>1.006438</td>\n",
       "      <td>1.003153</td>\n",
       "      <td>0.996621</td>\n",
       "      <td>1.008198</td>\n",
       "    </tr>\n",
       "    <tr>\n",
       "      <th>4</th>\n",
       "      <td>1.009358</td>\n",
       "      <td>1.001711</td>\n",
       "      <td>0.975497</td>\n",
       "      <td>0.997177</td>\n",
       "      <td>1.006128</td>\n",
       "      <td>0.998101</td>\n",
       "      <td>1.001583</td>\n",
       "      <td>0.995657</td>\n",
       "      <td>0.992022</td>\n",
       "      <td>0.993566</td>\n",
       "      <td>...</td>\n",
       "      <td>1.009142</td>\n",
       "      <td>1.002724</td>\n",
       "      <td>1.014954</td>\n",
       "      <td>1.003778</td>\n",
       "      <td>1.003178</td>\n",
       "      <td>0.997889</td>\n",
       "      <td>1.008227</td>\n",
       "      <td>1.003788</td>\n",
       "      <td>0.994397</td>\n",
       "      <td>1.008805</td>\n",
       "    </tr>\n",
       "    <tr>\n",
       "      <th>...</th>\n",
       "      <td>...</td>\n",
       "      <td>...</td>\n",
       "      <td>...</td>\n",
       "      <td>...</td>\n",
       "      <td>...</td>\n",
       "      <td>...</td>\n",
       "      <td>...</td>\n",
       "      <td>...</td>\n",
       "      <td>...</td>\n",
       "      <td>...</td>\n",
       "      <td>...</td>\n",
       "      <td>...</td>\n",
       "      <td>...</td>\n",
       "      <td>...</td>\n",
       "      <td>...</td>\n",
       "      <td>...</td>\n",
       "      <td>...</td>\n",
       "      <td>...</td>\n",
       "      <td>...</td>\n",
       "      <td>...</td>\n",
       "      <td>...</td>\n",
       "    </tr>\n",
       "    <tr>\n",
       "      <th>7556</th>\n",
       "      <td>153.266729</td>\n",
       "      <td>119.523313</td>\n",
       "      <td>184.895355</td>\n",
       "      <td>84.831486</td>\n",
       "      <td>119.586706</td>\n",
       "      <td>84.691122</td>\n",
       "      <td>221.740650</td>\n",
       "      <td>200.496537</td>\n",
       "      <td>121.134392</td>\n",
       "      <td>120.949502</td>\n",
       "      <td>...</td>\n",
       "      <td>84.336088</td>\n",
       "      <td>102.559592</td>\n",
       "      <td>99.349635</td>\n",
       "      <td>123.579646</td>\n",
       "      <td>183.590658</td>\n",
       "      <td>178.306944</td>\n",
       "      <td>117.421276</td>\n",
       "      <td>180.739919</td>\n",
       "      <td>99.039571</td>\n",
       "      <td>257.027790</td>\n",
       "    </tr>\n",
       "    <tr>\n",
       "      <th>7557</th>\n",
       "      <td>153.202855</td>\n",
       "      <td>119.897713</td>\n",
       "      <td>184.107197</td>\n",
       "      <td>84.612190</td>\n",
       "      <td>119.465887</td>\n",
       "      <td>84.600463</td>\n",
       "      <td>222.053977</td>\n",
       "      <td>200.171636</td>\n",
       "      <td>121.596460</td>\n",
       "      <td>119.970945</td>\n",
       "      <td>...</td>\n",
       "      <td>84.321066</td>\n",
       "      <td>102.665181</td>\n",
       "      <td>99.899423</td>\n",
       "      <td>123.939351</td>\n",
       "      <td>182.417620</td>\n",
       "      <td>179.630648</td>\n",
       "      <td>117.152476</td>\n",
       "      <td>180.426417</td>\n",
       "      <td>99.473036</td>\n",
       "      <td>259.374337</td>\n",
       "    </tr>\n",
       "    <tr>\n",
       "      <th>7558</th>\n",
       "      <td>153.465186</td>\n",
       "      <td>119.982677</td>\n",
       "      <td>185.507154</td>\n",
       "      <td>85.169473</td>\n",
       "      <td>119.448441</td>\n",
       "      <td>84.464441</td>\n",
       "      <td>221.369189</td>\n",
       "      <td>199.878825</td>\n",
       "      <td>121.901394</td>\n",
       "      <td>119.998030</td>\n",
       "      <td>...</td>\n",
       "      <td>84.672364</td>\n",
       "      <td>103.315774</td>\n",
       "      <td>100.187726</td>\n",
       "      <td>123.999858</td>\n",
       "      <td>181.707623</td>\n",
       "      <td>180.759889</td>\n",
       "      <td>116.867437</td>\n",
       "      <td>180.452400</td>\n",
       "      <td>100.462447</td>\n",
       "      <td>259.180462</td>\n",
       "    </tr>\n",
       "    <tr>\n",
       "      <th>7559</th>\n",
       "      <td>153.042919</td>\n",
       "      <td>119.364007</td>\n",
       "      <td>184.632565</td>\n",
       "      <td>85.263914</td>\n",
       "      <td>119.669369</td>\n",
       "      <td>85.018967</td>\n",
       "      <td>221.769108</td>\n",
       "      <td>199.024737</td>\n",
       "      <td>121.561422</td>\n",
       "      <td>120.067045</td>\n",
       "      <td>...</td>\n",
       "      <td>85.370582</td>\n",
       "      <td>103.161337</td>\n",
       "      <td>100.329168</td>\n",
       "      <td>124.026137</td>\n",
       "      <td>180.667420</td>\n",
       "      <td>181.286739</td>\n",
       "      <td>116.633187</td>\n",
       "      <td>179.520985</td>\n",
       "      <td>100.918616</td>\n",
       "      <td>261.469664</td>\n",
       "    </tr>\n",
       "    <tr>\n",
       "      <th>7560</th>\n",
       "      <td>153.064281</td>\n",
       "      <td>119.311460</td>\n",
       "      <td>184.319352</td>\n",
       "      <td>85.352895</td>\n",
       "      <td>119.896746</td>\n",
       "      <td>85.352274</td>\n",
       "      <td>223.289643</td>\n",
       "      <td>199.959835</td>\n",
       "      <td>121.481589</td>\n",
       "      <td>120.083768</td>\n",
       "      <td>...</td>\n",
       "      <td>85.662600</td>\n",
       "      <td>103.535278</td>\n",
       "      <td>100.609617</td>\n",
       "      <td>125.109852</td>\n",
       "      <td>180.582775</td>\n",
       "      <td>180.601170</td>\n",
       "      <td>115.975294</td>\n",
       "      <td>179.075055</td>\n",
       "      <td>101.036164</td>\n",
       "      <td>260.746964</td>\n",
       "    </tr>\n",
       "  </tbody>\n",
       "</table>\n",
       "<p>7561 rows × 500 columns</p>\n",
       "</div>"
      ],
      "text/plain": [
       "             0           1           2          3           4          5    \\\n",
       "0       1.000000    1.000000    1.000000   1.000000    1.000000   1.000000   \n",
       "1       1.002402    0.993440    1.000319   0.999934    1.004965   1.003059   \n",
       "2       0.999439    0.993888    0.996176   0.997666    1.009635   0.999690   \n",
       "3       1.001642    0.995512    0.986144   1.003959    1.004721   0.999834   \n",
       "4       1.009358    1.001711    0.975497   0.997177    1.006128   0.998101   \n",
       "...          ...         ...         ...        ...         ...        ...   \n",
       "7556  153.266729  119.523313  184.895355  84.831486  119.586706  84.691122   \n",
       "7557  153.202855  119.897713  184.107197  84.612190  119.465887  84.600463   \n",
       "7558  153.465186  119.982677  185.507154  85.169473  119.448441  84.464441   \n",
       "7559  153.042919  119.364007  184.632565  85.263914  119.669369  85.018967   \n",
       "7560  153.064281  119.311460  184.319352  85.352895  119.896746  85.352274   \n",
       "\n",
       "             6           7           8           9    ...        490  \\\n",
       "0       1.000000    1.000000    1.000000    1.000000  ...   1.000000   \n",
       "1       0.994211    0.997109    0.995096    1.000432  ...   1.000700   \n",
       "2       0.998354    0.998345    0.990033    0.996887  ...   0.998558   \n",
       "3       0.998015    0.998006    0.991049    1.000991  ...   0.998447   \n",
       "4       1.001583    0.995657    0.992022    0.993566  ...   1.009142   \n",
       "...          ...         ...         ...         ...  ...        ...   \n",
       "7556  221.740650  200.496537  121.134392  120.949502  ...  84.336088   \n",
       "7557  222.053977  200.171636  121.596460  119.970945  ...  84.321066   \n",
       "7558  221.369189  199.878825  121.901394  119.998030  ...  84.672364   \n",
       "7559  221.769108  199.024737  121.561422  120.067045  ...  85.370582   \n",
       "7560  223.289643  199.959835  121.481589  120.083768  ...  85.662600   \n",
       "\n",
       "             491         492         493         494         495         496  \\\n",
       "0       1.000000    1.000000    1.000000    1.000000    1.000000    1.000000   \n",
       "1       1.000807    1.008284    1.005188    1.000091    0.998728    0.993802   \n",
       "2       1.000609    1.020218    1.008052    1.005486    0.998704    1.000783   \n",
       "3       0.993121    1.017846    1.005694    1.004416    0.998375    1.006438   \n",
       "4       1.002724    1.014954    1.003778    1.003178    0.997889    1.008227   \n",
       "...          ...         ...         ...         ...         ...         ...   \n",
       "7556  102.559592   99.349635  123.579646  183.590658  178.306944  117.421276   \n",
       "7557  102.665181   99.899423  123.939351  182.417620  179.630648  117.152476   \n",
       "7558  103.315774  100.187726  123.999858  181.707623  180.759889  116.867437   \n",
       "7559  103.161337  100.329168  124.026137  180.667420  181.286739  116.633187   \n",
       "7560  103.535278  100.609617  125.109852  180.582775  180.601170  115.975294   \n",
       "\n",
       "             497         498         499  \n",
       "0       1.000000    1.000000    1.000000  \n",
       "1       1.002373    0.998473    1.002754  \n",
       "2       1.004440    0.994659    1.005259  \n",
       "3       1.003153    0.996621    1.008198  \n",
       "4       1.003788    0.994397    1.008805  \n",
       "...          ...         ...         ...  \n",
       "7556  180.739919   99.039571  257.027790  \n",
       "7557  180.426417   99.473036  259.374337  \n",
       "7558  180.452400  100.462447  259.180462  \n",
       "7559  179.520985  100.918616  261.469664  \n",
       "7560  179.075055  101.036164  260.746964  \n",
       "\n",
       "[7561 rows x 500 columns]"
      ]
     },
     "execution_count": 28,
     "metadata": {},
     "output_type": "execute_result"
    }
   ],
   "source": [
    "# Running a Monte Carlo simulation to forecast 30 years cumulative returns\n",
    "MC_Shares.calc_cumulative_return()"
   ]
  },
  {
   "cell_type": "code",
   "execution_count": 29,
   "metadata": {},
   "outputs": [
    {
     "data": {
      "image/png": "[encoded data removed]",
      "text/plain": [
       "<Figure size 432x288 with 1 Axes>"
      ]
     },
     "metadata": {
      "needs_background": "light"
     },
     "output_type": "display_data"
    }
   ],
   "source": [
    "# Plot simulation outcomes\n",
    "line_plot = MC_Shares.plot_simulation()"
   ]
  },
  {
   "cell_type": "code",
   "execution_count": 30,
   "metadata": {},
   "outputs": [
    {
     "data": {
      "image/png": "[encoded data removed]",
      "text/plain": [
       "<Figure size 432x288 with 1 Axes>"
      ]
     },
     "metadata": {
      "needs_background": "light"
     },
     "output_type": "display_data"
    }
   ],
   "source": [
    "# Plot probability distribution and confidence intervals\n",
    "dist_plot = MC_Shares.plot_distribution()\n",
    "dist_plot.get_figure().savefig('MC_Shares.png',bbox_inches='tight')"
   ]
  },
  {
   "cell_type": "markdown",
   "metadata": {},
   "source": [
    "### Retirement Analysis"
   ]
  },
  {
   "cell_type": "code",
   "execution_count": 31,
   "metadata": {},
   "outputs": [
    {
     "name": "stdout",
     "output_type": "stream",
     "text": [
      "count           500.000000\n",
      "mean            143.654550\n",
      "std              52.039926\n",
      "min              40.411035\n",
      "25%             105.839226\n",
      "50%             137.585945\n",
      "75%             173.578536\n",
      "max             460.770535\n",
      "95% CI Lower     63.900336\n",
      "95% CI Upper    260.144163\n",
      "Name: 7560, dtype: float64\n"
     ]
    }
   ],
   "source": [
    "# Fetch summary statistics from the Monte Carlo simulation results\n",
    "tbl = MC_Shares.summarize_cumulative_return()\n",
    "# Print summary statistics\n",
    "print(tbl)"
   ]
  },
  {
   "cell_type": "markdown",
   "metadata": {},
   "source": [
    "### Calculate the expected portfolio return at the 95% lower and upper confidence intervals based on a `$20,000` initial investment."
   ]
  },
  {
   "cell_type": "code",
   "execution_count": 32,
   "metadata": {},
   "outputs": [
    {
     "name": "stdout",
     "output_type": "stream",
     "text": [
      "There is a 95% chance that an initial investment of $20000 in the portfolio over the next 30 years will end within in the range of $1278006.73 and $5202883.27\n"
     ]
    }
   ],
   "source": [
    "# Set initial investment\n",
    "initial_investment = 20000\n",
    "\n",
    "# Use the lower and upper `95%` confidence intervals to calculate the range of the possible outcomes of our $20,000\n",
    "ci_lower = round(tbl[8]*20000,2)\n",
    "ci_upper = round(tbl[9]*20000,2)\n",
    "\n",
    "# Print results\n",
    "print(f\"There is a 95% chance that an initial investment of ${initial_investment} in the portfolio\"\n",
    "      f\" over the next 30 years will end within in the range of\"\n",
    "      f\" ${ci_lower} and ${ci_upper}\")"
   ]
  },
  {
   "cell_type": "markdown",
   "metadata": {},
   "source": [
    "### Calculate the expected portfolio return at the `95%` lower and upper confidence intervals based on a `50%` increase in the initial investment."
   ]
  },
  {
   "cell_type": "code",
   "execution_count": 33,
   "metadata": {},
   "outputs": [
    {
     "name": "stdout",
     "output_type": "stream",
     "text": [
      "There is a 95% chance that an initial investment of $30000.0 in the portfolio over the next 30 years will end within in the range of $1917010.09 and $7804324.9\n"
     ]
    }
   ],
   "source": [
    "# Set initial investment\n",
    "initial_investment = 20000 * 1.5\n",
    "\n",
    "# Use the lower and upper `95%` confidence intervals to calculate the range of the possible outcomes of our $30,000\n",
    "ci_lower = round(tbl[8]*20000*1.5,2)\n",
    "ci_upper = round(tbl[9]*20000*1.5,2)\n",
    "\n",
    "# Print results\n",
    "print(f\"There is a 95% chance that an initial investment of ${initial_investment} in the portfolio\"\n",
    "      f\" over the next 30 years will end within in the range of\"\n",
    "      f\" ${ci_lower} and ${ci_upper}\")"
   ]
  }
 ],
 "metadata": {
  "kernelspec": {
   "display_name": "Python 3",
   "language": "python",
   "name": "python3"
  },
  "language_info": {
   "codemirror_mode": {
    "name": "ipython",
    "version": 3
   },
   "file_extension": ".py",
   "mimetype": "text/x-python",
   "name": "python",
   "nbconvert_exporter": "python",
   "pygments_lexer": "ipython3",
   "version": "3.7.10"
  }
 },
 "nbformat": 4,
 "nbformat_minor": 4
}
